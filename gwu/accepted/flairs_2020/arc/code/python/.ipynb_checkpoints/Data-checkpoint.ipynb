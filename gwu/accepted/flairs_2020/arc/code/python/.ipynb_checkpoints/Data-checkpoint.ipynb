{
 "cells": [
  {
   "cell_type": "markdown",
   "metadata": {},
   "source": [
    "<h1 align=\"center\"> \n",
    "The Data class\n",
    "</h1> \n",
    "\n",
    "Please cite the following paper when using the code"
   ]
  },
  {
   "cell_type": "code",
   "execution_count": null,
   "metadata": {
    "collapsed": true
   },
   "outputs": [],
   "source": [
    "class Data:\n",
    "    \"\"\"The Data class\"\"\"\n",
    "\n",
    "    def __init__(self,\n",
    "                 X,\n",
    "                 X_train,\n",
    "                 X_test,\n",
    "                 y,\n",
    "                 y_train,\n",
    "                 y_test):\n",
    "\n",
    "        # The feature vector\n",
    "        self.X = X\n",
    "\n",
    "        # The feature vector for training\n",
    "        self.X_train = X_train\n",
    "\n",
    "        # The feature vector for testing\n",
    "        self.X_test = X_test\n",
    "\n",
    "        # The target vector\n",
    "        self.y = y\n",
    "\n",
    "        # The target vector for training\n",
    "        self.y_train = y_train\n",
    "\n",
    "        # The target vector for testing\n",
    "        self.y_test = y_test\n",
    "        \n",
    "        # The feature vector for training, with interaction\n",
    "        self.X_train_I = None\n",
    "\n",
    "        # The feature vector for testing, with interaction\n",
    "        self.X_test_I = None"
   ]
  }
 ],
 "metadata": {
  "kernelspec": {
   "display_name": "Python 3",
   "language": "python",
   "name": "python3"
  },
  "language_info": {
   "codemirror_mode": {
    "name": "ipython",
    "version": 3
   },
   "file_extension": ".py",
   "mimetype": "text/x-python",
   "name": "python",
   "nbconvert_exporter": "python",
   "pygments_lexer": "ipython3",
   "version": "3.6.3"
  }
 },
 "nbformat": 4,
 "nbformat_minor": 2
}
