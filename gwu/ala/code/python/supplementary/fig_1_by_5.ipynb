{
 "cells": [
  {
   "cell_type": "markdown",
   "metadata": {},
   "source": [
    "## Load data"
   ]
  },
  {
   "cell_type": "code",
   "execution_count": 375,
   "metadata": {
    "collapsed": true
   },
   "outputs": [],
   "source": [
    "import pandas as pd\n",
    "\n",
    "# Load the data\n",
    "df = pd.read_csv('https://archive.ics.uci.edu/ml/machine-learning-databases/iris/iris.data', header=None)\n",
    "\n",
    "# Specify the name of the columns\n",
    "df.columns = ['Sepal length', 'Sepal width', 'Petal length', 'Petal width', 'Class']\n",
    "\n",
    "# Features\n",
    "features = ['Sepal length', 'Sepal width', 'Petal length', 'Petal width']\n",
    "\n",
    "# Get the features\n",
    "X = df[features].values\n",
    "\n",
    "# Get the target\n",
    "y = df['Class'].values"
   ]
  },
  {
   "cell_type": "markdown",
   "metadata": {},
   "source": [
    "## Data preprocessing"
   ]
  },
  {
   "cell_type": "code",
   "execution_count": 376,
   "metadata": {
    "collapsed": true
   },
   "outputs": [],
   "source": [
    "from sklearn.preprocessing import LabelEncoder\n",
    "\n",
    "# The label encoder for the target\n",
    "le = LabelEncoder()\n",
    "\n",
    "# Encode the target\n",
    "y = le.fit_transform(y)"
   ]
  },
  {
   "cell_type": "markdown",
   "metadata": {},
   "source": [
    "## The 1 $\\times$ 5 matrix"
   ]
  },
  {
   "cell_type": "code",
   "execution_count": 377,
   "metadata": {
    "collapsed": true
   },
   "outputs": [],
   "source": [
    "import matplotlib.pyplot as plt\n",
    "\n",
    "fig, axs = plt.subplots(ncols=5, figsize=(22, 4))"
   ]
  },
  {
   "cell_type": "markdown",
   "metadata": {},
   "source": [
    "## Column 0: the scatter plot between Petal width and Petal length"
   ]
  },
  {
   "cell_type": "code",
   "execution_count": 378,
   "metadata": {},
   "outputs": [
    {
     "data": {
      "text/plain": [
       "[Text(0,0,'1.0'), Text(0,0,'4.5'), Text(0,0,'6.9')]"
      ]
     },
     "execution_count": 378,
     "metadata": {},
     "output_type": "execute_result"
    }
   ],
   "source": [
    "import numpy as np\n",
    "\n",
    "# Get the x values\n",
    "x_col = features.index('Petal width')\n",
    "x_vals = X[:, x_col]\n",
    "x_vals_u = np.unique(x_vals)\n",
    "\n",
    "# Get the y values\n",
    "y_col = features.index('Petal length')\n",
    "y_vals = X[:, y_col]\n",
    "y_vals_u = np.unique(y_vals)\n",
    "\n",
    "# Get the color, marker, and label\n",
    "colors = [\"red\", \"green\", \"blue\"]\n",
    "markers = [\"o\", \"*\", \"s\"]\n",
    "labels = [\"1\", \"2\", \"3\"]\n",
    "\n",
    "# Get the data\n",
    "data = {}\n",
    "for num in range(3):\n",
    "    data_x = [x_vals[i] for i in range(len(y)) if y[i] == num]\n",
    "    data_y = [y_vals[i] for i in range(len(y)) if y[i] == num]\n",
    "    data[num] = [data_x, data_y]\n",
    "    \n",
    "ax = axs[0]\n",
    "\n",
    "for num, color, marker, label in zip(data.keys(), colors, markers, labels):\n",
    "    data_x, data_y = data[num]\n",
    "    x_idxs = [list(x_vals_u).index(xi) for xi in data_x]\n",
    "    y_idxs = [list(y_vals_u).index(yi) for yi in data_y]\n",
    "    ax.scatter(x_idxs, y_idxs, c=color, marker=marker, s=200, label=label)\n",
    "\n",
    "ax.legend(loc=(-0.1, 0.25), shadow=True, fontsize=30, frameon=False, handletextpad=-0.5)\n",
    "\n",
    "# Get the length of x_vals and the mid index\n",
    "n = len(x_vals_u)\n",
    "mid = n // 2\n",
    "ax.set_xlabel('Petal width', fontsize=30)\n",
    "ax.set_xticks([0, mid, n - 1])\n",
    "ax.set_xticklabels([x_vals_u[0], x_vals_u[mid], x_vals_u[n - 1]], fontsize=30)\n",
    "\n",
    "n = len(y_vals_u)\n",
    "mid = n // 2\n",
    "ax.set_ylabel('Petal length', fontsize=30)\n",
    "ax.set_yticks([0, mid, n - 1])\n",
    "ax.set_yticklabels([y_vals_u[0], y_vals_u[mid], y_vals_u[n - 1]], fontsize=30)"
   ]
  },
  {
   "cell_type": "markdown",
   "metadata": {},
   "source": [
    "## Column 1: the scatter plot between Sepal width and Sepal length"
   ]
  },
  {
   "cell_type": "code",
   "execution_count": 379,
   "metadata": {},
   "outputs": [
    {
     "data": {
      "text/plain": [
       "[Text(0,0,'4.3'), Text(0,0,'6.0'), Text(0,0,'7.9')]"
      ]
     },
     "execution_count": 379,
     "metadata": {},
     "output_type": "execute_result"
    }
   ],
   "source": [
    "# Get the x values\n",
    "x_col = features.index('Sepal width')\n",
    "x_vals = X[:, x_col]\n",
    "x_vals_u = np.unique(x_vals)\n",
    "\n",
    "# Get the y values\n",
    "y_col = features.index('Sepal length')\n",
    "y_vals = X[:, y_col]\n",
    "y_vals_u = np.unique(y_vals)\n",
    "\n",
    "# Get the color, marker, and label\n",
    "colors = [\"red\", \"green\", \"blue\"]\n",
    "markers = [\"o\", \"*\", \"s\"]\n",
    "labels = [\"1\", \"2\", \"3\"]\n",
    "\n",
    "# Get the data\n",
    "data = {}\n",
    "for num in range(3):\n",
    "    data_x = [x_vals[i] for i in range(len(y)) if y[i] == num]\n",
    "    data_y = [y_vals[i] for i in range(len(y)) if y[i] == num]\n",
    "    data[num] = [data_x, data_y]\n",
    "    \n",
    "ax = axs[1]\n",
    "\n",
    "for num, color, marker, label in zip(data.keys(), colors, markers, labels):\n",
    "    data_x, data_y = data[num]\n",
    "    x_idxs = [list(x_vals_u).index(xi) for xi in data_x]\n",
    "    y_idxs = [list(y_vals_u).index(yi) for yi in data_y]\n",
    "    ax.scatter(x_idxs, y_idxs, c=color, marker=marker, s=200, label=label)\n",
    "\n",
    "# Get the length of x_vals and the mid index\n",
    "n = len(x_vals_u)\n",
    "mid = n // 2\n",
    "ax.set_xlabel('Sepal width', fontsize=30)\n",
    "ax.set_xticks([0, mid, n - 1])\n",
    "ax.set_xticklabels([x_vals_u[0], x_vals_u[mid], x_vals_u[n - 1]], fontsize=30)\n",
    "\n",
    "n = len(y_vals_u)\n",
    "mid = n // 2\n",
    "ax.set_ylabel('Sepal length', fontsize=30)\n",
    "ax.set_yticks([0, mid, n - 1])\n",
    "ax.set_yticklabels([y_vals_u[0], y_vals_u[mid], y_vals_u[n - 1]], fontsize=30)"
   ]
  },
  {
   "cell_type": "markdown",
   "metadata": {},
   "source": [
    "## Column 2: the importance distribution of Petal width for Setosa"
   ]
  },
  {
   "cell_type": "code",
   "execution_count": 380,
   "metadata": {},
   "outputs": [
    {
     "data": {
      "text/plain": [
       "[Text(0,0,'0'), Text(0,0,'0.5'), Text(0,0,'1')]"
      ]
     },
     "execution_count": 380,
     "metadata": {},
     "output_type": "execute_result"
    }
   ],
   "source": [
    "# Load the distribution file\n",
    "df = pd.read_csv('iris.csv', header=0)\n",
    "\n",
    "# Specify the name of the columns\n",
    "df.columns = ['yu', 'xj', 'xij', 'pij']\n",
    "\n",
    "df = df.loc[(df['yu'] == 'Iris-setosa') & (df['xj'] == ' Petal width')]\n",
    "\n",
    "# Get the feature values\n",
    "xijs = df['xij'].values\n",
    "\n",
    "# Get the probabilities\n",
    "pijs = df['pij'].values\n",
    "\n",
    "ax = axs[2]\n",
    "\n",
    "# Plot the bar chart\n",
    "ax.bar(range(len(xijs)), pijs, color='red')\n",
    "ax.set_xlabel('Petal width', fontsize=30)\n",
    "ax.set_xticks([0, 11, 21])\n",
    "ax.set_xticklabels([0.1, 1.5, 2.5], fontsize=30)\n",
    "\n",
    "ax.set_ylabel('Importance', fontsize=30)\n",
    "ax.set_ylim([0, 1])\n",
    "ax.set_yticks([0, 0.5, 1])\n",
    "ax.set_yticklabels([0, 0.5, 1], fontsize=30)"
   ]
  },
  {
   "cell_type": "markdown",
   "metadata": {},
   "source": [
    "## Column 3: the importance distribution of Petal width for Versicolor"
   ]
  },
  {
   "cell_type": "code",
   "execution_count": 381,
   "metadata": {},
   "outputs": [
    {
     "data": {
      "text/plain": [
       "[Text(0,0,'0'), Text(0,0,'0.5'), Text(0,0,'1')]"
      ]
     },
     "execution_count": 381,
     "metadata": {},
     "output_type": "execute_result"
    }
   ],
   "source": [
    "# Load the distribution file\n",
    "df = pd.read_csv('iris.csv', header=0)\n",
    "\n",
    "# Specify the name of the columns\n",
    "df.columns = ['yu', 'xj', 'xij', 'pij']\n",
    "\n",
    "df = df.loc[(df['yu'] == 'Iris-versicolor') & (df['xj'] == ' Petal width')]\n",
    "\n",
    "# Get the feature values\n",
    "xijs = df['xij'].values\n",
    "\n",
    "# Get the probabilities\n",
    "pijs = df['pij'].values\n",
    "\n",
    "ax = axs[3]\n",
    "\n",
    "# Plot the bar chart\n",
    "ax.bar(range(len(xijs)), pijs, color='green')\n",
    "ax.set_xlabel('Petal width', fontsize=30)\n",
    "ax.set_xticks([0, 11, 21])\n",
    "ax.set_xticklabels([0.1, 1.5, 2.5], fontsize=30)\n",
    "\n",
    "ax.set_ylabel('Importance', fontsize=30)\n",
    "ax.set_ylim([0, 1])\n",
    "ax.set_yticks([0, 0.5, 1])\n",
    "ax.set_yticklabels([0, 0.5, 1], fontsize=30)"
   ]
  },
  {
   "cell_type": "markdown",
   "metadata": {},
   "source": [
    "## Column 4: the importance distribution of Petal width for Virginca"
   ]
  },
  {
   "cell_type": "code",
   "execution_count": 382,
   "metadata": {},
   "outputs": [
    {
     "data": {
      "text/plain": [
       "[Text(0,0,'0'), Text(0,0,'0.5'), Text(0,0,'1')]"
      ]
     },
     "execution_count": 382,
     "metadata": {},
     "output_type": "execute_result"
    }
   ],
   "source": [
    "# Load the distribution file\n",
    "df = pd.read_csv('iris.csv', header=0)\n",
    "\n",
    "# Specify the name of the columns\n",
    "df.columns = ['yu', 'xj', 'xij', 'pij']\n",
    "\n",
    "df = df.loc[(df['yu'] == \"Iris-virginica\") & (df['xj'] == \" Petal width\")]\n",
    "\n",
    "# Get the feature values\n",
    "xijs = df['xij'].values\n",
    "\n",
    "# Get the probabilities\n",
    "pijs = df['pij'].values\n",
    "\n",
    "ax = axs[4]\n",
    "\n",
    "# Plot the bar chart\n",
    "ax.bar(range(len(xijs)), pijs, color='blue')\n",
    "ax.set_xlabel('Petal width', fontsize=30)\n",
    "ax.set_xticks([0, 11, 21])\n",
    "ax.set_xticklabels([0.1, 1.5, 2.5], fontsize=30)\n",
    "\n",
    "ax.set_ylabel('Importance', fontsize=30)\n",
    "ax.set_ylim([0, 1])\n",
    "ax.set_yticks([0, 0.5, 1])\n",
    "ax.set_yticklabels([0, 0.5, 1], fontsize=30)"
   ]
  },
  {
   "cell_type": "markdown",
   "metadata": {},
   "source": [
    "## Plot"
   ]
  },
  {
   "cell_type": "code",
   "execution_count": 383,
   "metadata": {},
   "outputs": [
    {
     "data": {
      "image/png": "[encoded data removed]",
      "text/plain": [
       "<matplotlib.figure.Figure at 0x1a1e0d6ac8>"
      ]
     },
     "metadata": {},
     "output_type": "display_data"
    }
   ],
   "source": [
    "fig.tight_layout()\n",
    "plt.savefig('fig_1_by_5.pdf', dpi=300)\n",
    "plt.show()"
   ]
  },
  {
   "cell_type": "code",
   "execution_count": null,
   "metadata": {
    "collapsed": true
   },
   "outputs": [],
   "source": []
  }
 ],
 "metadata": {
  "kernelspec": {
   "display_name": "Python 3",
   "language": "python",
   "name": "python3"
  },
  "language_info": {
   "codemirror_mode": {
    "name": "ipython",
    "version": 3
   },
   "file_extension": ".py",
   "mimetype": "text/x-python",
   "name": "python",
   "nbconvert_exporter": "python",
   "pygments_lexer": "ipython3",
   "version": "3.6.3"
  }
 },
 "nbformat": 4,
 "nbformat_minor": 2
}
