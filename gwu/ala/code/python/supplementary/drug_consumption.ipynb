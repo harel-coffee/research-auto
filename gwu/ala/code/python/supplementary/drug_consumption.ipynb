{
 "cells": [
  {
   "cell_type": "code",
   "execution_count": 28,
   "metadata": {
    "scrolled": true
   },
   "outputs": [],
   "source": [
    "import pandas as pd\n",
    "import os\n",
    "\n",
    "targets = \"Alcohol, Amphet, Amyl, Benzos, Caff, Cannabis, Choc, Coke, Crack, Ecstasy, Heroin, Ketamine, Legalh, LSD, Meth, Mushrooms, Nicotine, Semer, VSA\"\n",
    "\n",
    "for target in targets.split(','):\n",
    "    target = target.strip()\n",
    "    if target == 'VSA':\n",
    "        remaining_targets = targets.replace(', VSA', '')\n",
    "    else:\n",
    "        target_comma = target + ', '\n",
    "        remaining_targets = targets.replace(target_comma, '')\n",
    "    \n",
    "    names = \"\"\"\n",
    "###--------------------------------------------------------------------------------------------------------\n",
    "### Some names of the dataset\n",
    "###--------------------------------------------------------------------------------------------------------\n",
    "\n",
    "###--------------------------------------------------------------------------------------------------------\n",
    "### The header, None by default\n",
    "###--------------------------------------------------------------------------------------------------------\n",
    "\n",
    "header = \n",
    "\n",
    "###--------------------------------------------------------------------------------------------------------\n",
    "### The delimiter\n",
    "###--------------------------------------------------------------------------------------------------------\n",
    "    \n",
    "delim_whitespace = \n",
    "\n",
    "###--------------------------------------------------------------------------------------------------------\n",
    "### The separator\n",
    "###--------------------------------------------------------------------------------------------------------\n",
    "        \n",
    "sep = \n",
    "\n",
    "###--------------------------------------------------------------------------------------------------------\n",
    "### The place holder for missing values, '?' by default\n",
    "###--------------------------------------------------------------------------------------------------------\n",
    "\n",
    "place_holder_for_missing_vals = \n",
    "\n",
    "###--------------------------------------------------------------------------------------------------------\n",
    "### The (name of the) columns, must be specified\n",
    "###--------------------------------------------------------------------------------------------------------\n",
    "\n",
    "columns = ID, Age, Gender, Education, Country, Ethnicity, Nscore, Escore, Oscore, Ascore, Cscore, Impulsive, SS, Alcohol, Amphet, Amyl, Benzos, Caff, Cannabis, Choc, Coke, Crack, Ecstasy, Heroin, Ketamine, Legalh, LSD, Meth, Mushrooms, Nicotine, Semer, VSA\n",
    "\n",
    "###--------------------------------------------------------------------------------------------------------\n",
    "### The (name of the) target, must be specified\n",
    "###--------------------------------------------------------------------------------------------------------\n",
    "\n",
    "target = \"\"\" + target + \"\"\"\n",
    "\n",
    "###--------------------------------------------------------------------------------------------------------\n",
    "### The (name of the) features that should be excluded, empty by default\n",
    "###--------------------------------------------------------------------------------------------------------\n",
    "\n",
    "exclude_features = ID, \"\"\" + remaining_targets + \"\"\"\n",
    "\n",
    "###--------------------------------------------------------------------------------------------------------\n",
    "### The (name of the) categorical features, empty by default\n",
    "###--------------------------------------------------------------------------------------------------------\n",
    "\n",
    "categorical_features = \n",
    "    \"\"\"\n",
    "    \n",
    "    file = '/Users/yhuang/Desktop/' + target + '/drug_consumption.names.txt'\n",
    "    directory = os.path.dirname(file)\n",
    "    if not os.path.exists(directory):\n",
    "        os.makedirs(directory)\n",
    "    text_file = open(file, \"w\")\n",
    "    text_file.write(names)\n",
    "    text_file.close()\n"
   ]
  },
  {
   "cell_type": "code",
   "execution_count": null,
   "metadata": {
    "collapsed": true
   },
   "outputs": [],
   "source": []
  }
 ],
 "metadata": {
  "kernelspec": {
   "display_name": "Python 3",
   "language": "python",
   "name": "python3"
  },
  "language_info": {
   "codemirror_mode": {
    "name": "ipython",
    "version": 3
   },
   "file_extension": ".py",
   "mimetype": "text/x-python",
   "name": "python",
   "nbconvert_exporter": "python",
   "pygments_lexer": "ipython3",
   "version": "3.6.3"
  }
 },
 "nbformat": 4,
 "nbformat_minor": 2
}
