{
 "cells": [
  {
   "cell_type": "markdown",
   "metadata": {},
   "source": [
    "<h1 align=\"center\"> \n",
    "The Names class\n",
    "</h1> \n",
    "\n",
    "Please cite the following paper when using the code"
   ]
  },
  {
   "cell_type": "code",
   "execution_count": null,
   "metadata": {
    "collapsed": true
   },
   "outputs": [],
   "source": [
    "class Names:\n",
    "    \"\"\"The Names class\"\"\"\n",
    "\n",
    "    def __init__(self):\n",
    "\n",
    "        # The header\n",
    "        self.header = None\n",
    "\n",
    "        # The delimiter\n",
    "        self.delim_whitespace = False\n",
    "\n",
    "        # The separator\n",
    "        self.sep = ','\n",
    "\n",
    "        # The place holder for missing values\n",
    "        self.place_holder_for_missing_vals = '?'\n",
    "\n",
    "        # The (name of the) columns\n",
    "        self.columns = None\n",
    "\n",
    "        # The (name of the) target\n",
    "        self.target = None\n",
    "\n",
    "        # The (name of the) features that should be excluded\n",
    "        self.exclude_features = []\n",
    "\n",
    "        # The (name of the) categorical features\n",
    "        self.categorical_features = []\n",
    "\n",
    "        # The (name of the) features\n",
    "        # This is not a parameter in the names file,\n",
    "        # since it can either be inferred based on self.columns and self.target\n",
    "        self.features = None\n",
    "        \n",
    "        # The (name of the) features, with interaction\n",
    "        self.features_I = None        \n",
    "\n",
    "        # The parameter names\n",
    "        self.para_names = ['header',\n",
    "                           'delim_whitespace',\n",
    "                           'sep',\n",
    "                           'place_holder_for_missing_vals',\n",
    "                           'columns',\n",
    "                           'target',\n",
    "                           'exclude_features',\n",
    "                           'categorical_features']"
   ]
  }
 ],
 "metadata": {
  "kernelspec": {
   "display_name": "Python 3",
   "language": "python",
   "name": "python3"
  },
  "language_info": {
   "codemirror_mode": {
    "name": "ipython",
    "version": 3
   },
   "file_extension": ".py",
   "mimetype": "text/x-python",
   "name": "python",
   "nbconvert_exporter": "python",
   "pygments_lexer": "ipython3",
   "version": "3.6.3"
  }
 },
 "nbformat": 4,
 "nbformat_minor": 2
}
