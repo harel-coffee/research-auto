{
 "cells": [
  {
   "cell_type": "markdown",
   "metadata": {
    "id": "0QJDNuifaIwP",
    "toc": true
   },
   "source": [
    "<h1>Table of Contents<span class=\"tocSkip\"></span></h1>\n",
    "<div class=\"toc\"><ul class=\"toc-item\"><li><span><a href=\"#Overview\" data-toc-modified-id=\"Overview-1\"><span class=\"toc-item-num\">1&nbsp;&nbsp;</span>Overview</a></span></li><li><span><a href=\"#Notebook-Configuration\" data-toc-modified-id=\"Notebook-Configuration-2\"><span class=\"toc-item-num\">2&nbsp;&nbsp;</span>Notebook Configuration</a></span><ul class=\"toc-item\"><li><span><a href=\"#Google-drive\" data-toc-modified-id=\"Google-drive-2.1\"><span class=\"toc-item-num\">2.1&nbsp;&nbsp;</span>Google drive</a></span></li><li><span><a href=\"#Warning\" data-toc-modified-id=\"Warning-2.2\"><span class=\"toc-item-num\">2.2&nbsp;&nbsp;</span>Warning</a></span></li><li><span><a href=\"#Matplotlib\" data-toc-modified-id=\"Matplotlib-2.3\"><span class=\"toc-item-num\">2.3&nbsp;&nbsp;</span>Matplotlib</a></span></li><li><span><a href=\"#TensorFlow\" data-toc-modified-id=\"TensorFlow-2.4\"><span class=\"toc-item-num\">2.4&nbsp;&nbsp;</span>TensorFlow</a></span></li><li><span><a href=\"#Random-seed\" data-toc-modified-id=\"Random-seed-2.5\"><span class=\"toc-item-num\">2.5&nbsp;&nbsp;</span>Random seed</a></span></li></ul></li><li><span><a href=\"#An-End-to-End-Pipeline-for-Predicting-Cancer-in-BCW\" data-toc-modified-id=\"An-End-to-End-Pipeline-for-Predicting-Cancer-in-BCW-3\"><span class=\"toc-item-num\">3&nbsp;&nbsp;</span>An End-to-End Pipeline for Predicting Cancer in BCW</a></span><ul class=\"toc-item\"><li><span><a href=\"#Step-1:-Data-preprocessing\" data-toc-modified-id=\"Step-1:-Data-preprocessing-3.1\"><span class=\"toc-item-num\">3.1&nbsp;&nbsp;</span>Step 1: Data preprocessing</a></span><ul class=\"toc-item\"><li><span><a href=\"#Step-1a:--Loading-the-data\" data-toc-modified-id=\"Step-1a:--Loading-the-data-3.1.1\"><span class=\"toc-item-num\">3.1.1&nbsp;&nbsp;</span>Step 1a:  Loading the data</a></span></li><li><span><a href=\"#Step-1b:-Splitting-the-data\" data-toc-modified-id=\"Step-1b:-Splitting-the-data-3.1.2\"><span class=\"toc-item-num\">3.1.2&nbsp;&nbsp;</span>Step 1b: Splitting the data</a></span></li><li><span><a href=\"#Step-1c:-Handling-patient-identifiers\" data-toc-modified-id=\"Step-1c:-Handling-patient-identifiers-3.1.3\"><span class=\"toc-item-num\">3.1.3&nbsp;&nbsp;</span>Step 1c: Handling patient identifiers</a></span><ul class=\"toc-item\"><li><span><a href=\"#Combining-the-training,-validation-and-test-data\" data-toc-modified-id=\"Combining-the-training,-validation-and-test-data-3.1.3.1\"><span class=\"toc-item-num\">3.1.3.1&nbsp;&nbsp;</span>Combining the training, validation and test data</a></span></li><li><span><a href=\"#Identifying-identifiers\" data-toc-modified-id=\"Identifying-identifiers-3.1.3.2\"><span class=\"toc-item-num\">3.1.3.2&nbsp;&nbsp;</span>Identifying identifiers</a></span></li><li><span><a href=\"#Removing-identifiers\" data-toc-modified-id=\"Removing-identifiers-3.1.3.3\"><span class=\"toc-item-num\">3.1.3.3&nbsp;&nbsp;</span>Removing identifiers</a></span></li></ul></li><li><span><a href=\"#Step-1d:-Encoding-the-data\" data-toc-modified-id=\"Step-1d:-Encoding-the-data-3.1.4\"><span class=\"toc-item-num\">3.1.4&nbsp;&nbsp;</span>Step 1d: Encoding the data</a></span><ul class=\"toc-item\"><li><span><a href=\"#Combining-the-training,-validation-and-test-data\" data-toc-modified-id=\"Combining-the-training,-validation-and-test-data-3.1.4.1\"><span class=\"toc-item-num\">3.1.4.1&nbsp;&nbsp;</span>Combining the training, validation and test data</a></span></li><li><span><a href=\"#Identifying-categorical-variables\" data-toc-modified-id=\"Identifying-categorical-variables-3.1.4.2\"><span class=\"toc-item-num\">3.1.4.2&nbsp;&nbsp;</span>Identifying categorical variables</a></span></li><li><span><a href=\"#Encoding-categorical-features\" data-toc-modified-id=\"Encoding-categorical-features-3.1.4.3\"><span class=\"toc-item-num\">3.1.4.3&nbsp;&nbsp;</span>Encoding categorical features</a></span></li><li><span><a href=\"#Encoding-categorical-target\" data-toc-modified-id=\"Encoding-categorical-target-3.1.4.4\"><span class=\"toc-item-num\">3.1.4.4&nbsp;&nbsp;</span>Encoding categorical target</a></span></li><li><span><a href=\"#Separating-the-training,-validation-and-test-data\" data-toc-modified-id=\"Separating-the-training,-validation-and-test-data-3.1.4.5\"><span class=\"toc-item-num\">3.1.4.5&nbsp;&nbsp;</span>Separating the training, validation and test data</a></span></li></ul></li><li><span><a href=\"#Step-1e:-Splitting-the-feature-and-target\" data-toc-modified-id=\"Step-1e:-Splitting-the-feature-and-target-3.1.5\"><span class=\"toc-item-num\">3.1.5&nbsp;&nbsp;</span>Step 1e: Splitting the feature and target</a></span></li><li><span><a href=\"#Step-1f:-Scaling-the-features\" data-toc-modified-id=\"Step-1f:-Scaling-the-features-3.1.6\"><span class=\"toc-item-num\">3.1.6&nbsp;&nbsp;</span>Step 1f: Scaling the features</a></span><ul class=\"toc-item\"><li><span><a href=\"#Normalizing-the-features\" data-toc-modified-id=\"Normalizing-the-features-3.1.6.1\"><span class=\"toc-item-num\">3.1.6.1&nbsp;&nbsp;</span>Normalizing the features</a></span></li></ul></li></ul></li><li><span><a href=\"#Step-2:-Data-augmentation-using-RO,-SOMTE-and-GANs\" data-toc-modified-id=\"Step-2:-Data-augmentation-using-RO,-SOMTE-and-GANs-3.2\"><span class=\"toc-item-num\">3.2&nbsp;&nbsp;</span>Step 2: Data augmentation using RO, SOMTE and GANs</a></span><ul class=\"toc-item\"><li><span><a href=\"#Step-2a:-Obtaining-the-number-of-samples-for-each-class-and-identifying-the-minority-class\" data-toc-modified-id=\"Step-2a:-Obtaining-the-number-of-samples-for-each-class-and-identifying-the-minority-class-3.2.1\"><span class=\"toc-item-num\">3.2.1&nbsp;&nbsp;</span>Step 2a: Obtaining the number of samples for each class and identifying the minority class</a></span><ul class=\"toc-item\"><li><span><a href=\"#Obtaining-the-number-of-samples-for-each-class\" data-toc-modified-id=\"Obtaining-the-number-of-samples-for-each-class-3.2.1.1\"><span class=\"toc-item-num\">3.2.1.1&nbsp;&nbsp;</span>Obtaining the number of samples for each class</a></span></li><li><span><a href=\"#Identifying-the-minority-classes\" data-toc-modified-id=\"Identifying-the-minority-classes-3.2.1.2\"><span class=\"toc-item-num\">3.2.1.2&nbsp;&nbsp;</span>Identifying the minority classes</a></span></li></ul></li><li><span><a href=\"#Step-2b:-Applying-RO-and-SMOTE\" data-toc-modified-id=\"Step-2b:-Applying-RO-and-SMOTE-3.2.2\"><span class=\"toc-item-num\">3.2.2&nbsp;&nbsp;</span>Step 2b: Applying RO and SMOTE</a></span><ul class=\"toc-item\"><li><span><a href=\"#Applying-RO\" data-toc-modified-id=\"Applying-RO-3.2.2.1\"><span class=\"toc-item-num\">3.2.2.1&nbsp;&nbsp;</span>Applying RO</a></span><ul class=\"toc-item\"><li><span><a href=\"#Augmenting-the-minority-class-in-the-training-data\" data-toc-modified-id=\"Augmenting-the-minority-class-in-the-training-data-3.2.2.1.1\"><span class=\"toc-item-num\">3.2.2.1.1&nbsp;&nbsp;</span>Augmenting the minority class in the training data</a></span></li><li><span><a href=\"#Getting-the-class-distribution\" data-toc-modified-id=\"Getting-the-class-distribution-3.2.2.1.2\"><span class=\"toc-item-num\">3.2.2.1.2&nbsp;&nbsp;</span>Getting the class distribution</a></span></li></ul></li><li><span><a href=\"#Applying-SMOTE\" data-toc-modified-id=\"Applying-SMOTE-3.2.2.2\"><span class=\"toc-item-num\">3.2.2.2&nbsp;&nbsp;</span>Applying SMOTE</a></span><ul class=\"toc-item\"><li><span><a href=\"#Augmenting-the-minority-class-in-the-training-data\" data-toc-modified-id=\"Augmenting-the-minority-class-in-the-training-data-3.2.2.2.1\"><span class=\"toc-item-num\">3.2.2.2.1&nbsp;&nbsp;</span>Augmenting the minority class in the training data</a></span></li><li><span><a href=\"#Getting-the-class-distribution\" data-toc-modified-id=\"Getting-the-class-distribution-3.2.2.2.2\"><span class=\"toc-item-num\">3.2.2.2.2&nbsp;&nbsp;</span>Getting the class distribution</a></span></li></ul></li></ul></li><li><span><a href=\"#Step-2c:-Applying-GANs\" data-toc-modified-id=\"Step-2c:-Applying-GANs-3.2.3\"><span class=\"toc-item-num\">3.2.3&nbsp;&nbsp;</span>Step 2c: Applying GANs</a></span><ul class=\"toc-item\"><li><span><a href=\"#Creating-the-directory-of-the-saved-GANs\" data-toc-modified-id=\"Creating-the-directory-of-the-saved-GANs-3.2.3.1\"><span class=\"toc-item-num\">3.2.3.1&nbsp;&nbsp;</span>Creating the directory of the saved GANs</a></span><ul class=\"toc-item\"><li><span><a href=\"#Augmenting-the-minority-class-in-the-training-data\" data-toc-modified-id=\"Augmenting-the-minority-class-in-the-training-data-3.2.3.1.1\"><span class=\"toc-item-num\">3.2.3.1.1&nbsp;&nbsp;</span>Augmenting the minority class in the training data</a></span></li><li><span><a href=\"#Getting-the-class-distribution\" data-toc-modified-id=\"Getting-the-class-distribution-3.2.3.1.2\"><span class=\"toc-item-num\">3.2.3.1.2&nbsp;&nbsp;</span>Getting the class distribution</a></span></li></ul></li></ul></li></ul></li><li><span><a href=\"#Step-3:-Training,-validating-and-testing-the-classifiers\" data-toc-modified-id=\"Step-3:-Training,-validating-and-testing-the-classifiers-3.3\"><span class=\"toc-item-num\">3.3&nbsp;&nbsp;</span>Step 3: Training, validating and testing the classifiers</a></span><ul class=\"toc-item\"><li><span><a href=\"#Step-3a:-Creating-the-dictionary-of-the-models\" data-toc-modified-id=\"Step-3a:-Creating-the-dictionary-of-the-models-3.3.1\"><span class=\"toc-item-num\">3.3.1&nbsp;&nbsp;</span>Step 3a: Creating the dictionary of the models</a></span></li><li><span><a href=\"#Step-3b:-Creating-the-dictionary-of-the-sklearn-pipelines\" data-toc-modified-id=\"Step-3b:-Creating-the-dictionary-of-the-sklearn-pipelines-3.3.2\"><span class=\"toc-item-num\">3.3.2&nbsp;&nbsp;</span>Step 3b: Creating the dictionary of the sklearn pipelines</a></span></li><li><span><a href=\"#Step-3c:-Creating-the-dictionary-of-the-parameter-grids\" data-toc-modified-id=\"Step-3c:-Creating-the-dictionary-of-the-parameter-grids-3.3.3\"><span class=\"toc-item-num\">3.3.3&nbsp;&nbsp;</span>Step 3c: Creating the dictionary of the parameter grids</a></span><ul class=\"toc-item\"><li><span><a href=\"#The-parameter-grid-for-histogram-based-gradient-boosting\" data-toc-modified-id=\"The-parameter-grid-for-histogram-based-gradient-boosting-3.3.3.1\"><span class=\"toc-item-num\">3.3.3.1&nbsp;&nbsp;</span>The parameter grid for histogram-based gradient boosting</a></span></li></ul></li><li><span><a href=\"#Step-3d:-Training,-validation-and-test\" data-toc-modified-id=\"Step-3d:-Training,-validation-and-test-3.3.4\"><span class=\"toc-item-num\">3.3.4&nbsp;&nbsp;</span>Step 3d: Training, validation and test</a></span><ul class=\"toc-item\"><li><span><a href=\"#Training,-validation-and-test-without-data-augmentation\" data-toc-modified-id=\"Training,-validation-and-test-without-data-augmentation-3.3.4.1\"><span class=\"toc-item-num\">3.3.4.1&nbsp;&nbsp;</span>Training, validation and test without data augmentation</a></span></li><li><span><a href=\"#Training,-validation-and-test-with-respect-to-RandomOverSampler\" data-toc-modified-id=\"Training,-validation-and-test-with-respect-to-RandomOverSampler-3.3.4.2\"><span class=\"toc-item-num\">3.3.4.2&nbsp;&nbsp;</span>Training, validation and test with respect to RandomOverSampler</a></span></li><li><span><a href=\"#Training,-validation-and-test-with-respect-to-SMOTE\" data-toc-modified-id=\"Training,-validation-and-test-with-respect-to-SMOTE-3.3.4.3\"><span class=\"toc-item-num\">3.3.4.3&nbsp;&nbsp;</span>Training, validation and test with respect to SMOTE</a></span></li><li><span><a href=\"#Training,-validation-and-test-with-respect-to-GANs\" data-toc-modified-id=\"Training,-validation-and-test-with-respect-to-GANs-3.3.4.4\"><span class=\"toc-item-num\">3.3.4.4&nbsp;&nbsp;</span>Training, validation and test with respect to GANs</a></span></li></ul></li></ul></li><li><span><a href=\"#Step-4:-Interpreting-the-results-using-visualization\" data-toc-modified-id=\"Step-4:-Interpreting-the-results-using-visualization-3.4\"><span class=\"toc-item-num\">3.4&nbsp;&nbsp;</span>Step 4: Interpreting the results using visualization</a></span><ul class=\"toc-item\"><li><span><a href=\"#Step-4a:-Creating-the-directory-of-the-figures\" data-toc-modified-id=\"Step-4a:-Creating-the-directory-of-the-figures-3.4.1\"><span class=\"toc-item-num\">3.4.1&nbsp;&nbsp;</span>Step 4a: Creating the directory of the figures</a></span></li><li><span><a href=\"#Step-4b:-Visualization-without-data-augmentation\" data-toc-modified-id=\"Step-4b:-Visualization-without-data-augmentation-3.4.2\"><span class=\"toc-item-num\">3.4.2&nbsp;&nbsp;</span>Step 4b: Visualization without data augmentation</a></span><ul class=\"toc-item\"><li><span><a href=\"#Plot-the-scatter-plot\" data-toc-modified-id=\"Plot-the-scatter-plot-3.4.2.1\"><span class=\"toc-item-num\">3.4.2.1&nbsp;&nbsp;</span>Plot the scatter plot</a></span></li></ul></li><li><span><a href=\"#Step-4c:-Visualization-with-respect-to-RO\" data-toc-modified-id=\"Step-4c:-Visualization-with-respect-to-RO-3.4.3\"><span class=\"toc-item-num\">3.4.3&nbsp;&nbsp;</span>Step 4c: Visualization with respect to RO</a></span><ul class=\"toc-item\"><li><span><a href=\"#Separate-the-duplicated-class-from-the-original-class\" data-toc-modified-id=\"Separate-the-duplicated-class-from-the-original-class-3.4.3.1\"><span class=\"toc-item-num\">3.4.3.1&nbsp;&nbsp;</span>Separate the duplicated class from the original class</a></span></li><li><span><a href=\"#Plot-the-scatter-plot\" data-toc-modified-id=\"Plot-the-scatter-plot-3.4.3.2\"><span class=\"toc-item-num\">3.4.3.2&nbsp;&nbsp;</span>Plot the scatter plot</a></span></li></ul></li><li><span><a href=\"#Step-4d:-Visualization-with-respect-to-SMOTE\" data-toc-modified-id=\"Step-4d:-Visualization-with-respect-to-SMOTE-3.4.4\"><span class=\"toc-item-num\">3.4.4&nbsp;&nbsp;</span>Step 4d: Visualization with respect to SMOTE</a></span><ul class=\"toc-item\"><li><span><a href=\"#Separate-the-generated-class-from-the-original-class\" data-toc-modified-id=\"Separate-the-generated-class-from-the-original-class-3.4.4.1\"><span class=\"toc-item-num\">3.4.4.1&nbsp;&nbsp;</span>Separate the generated class from the original class</a></span></li><li><span><a href=\"#Plot-the-scatter-plot\" data-toc-modified-id=\"Plot-the-scatter-plot-3.4.4.2\"><span class=\"toc-item-num\">3.4.4.2&nbsp;&nbsp;</span>Plot the scatter plot</a></span></li></ul></li><li><span><a href=\"#Step-4e:-Visualization-with-respect-to-GANs\" data-toc-modified-id=\"Step-4e:-Visualization-with-respect-to-GANs-3.4.5\"><span class=\"toc-item-num\">3.4.5&nbsp;&nbsp;</span>Step 4e: Visualization with respect to GANs</a></span><ul class=\"toc-item\"><li><span><a href=\"#Separate-the-generated-class-from-the-original-class\" data-toc-modified-id=\"Separate-the-generated-class-from-the-original-class-3.4.5.1\"><span class=\"toc-item-num\">3.4.5.1&nbsp;&nbsp;</span>Separate the generated class from the original class</a></span></li><li><span><a href=\"#Plot-the-scatter-plot\" data-toc-modified-id=\"Plot-the-scatter-plot-3.4.5.2\"><span class=\"toc-item-num\">3.4.5.2&nbsp;&nbsp;</span>Plot the scatter plot</a></span></li></ul></li></ul></li></ul></li><li><span><a href=\"#Reference\" data-toc-modified-id=\"Reference-4\"><span class=\"toc-item-num\">4&nbsp;&nbsp;</span>Reference</a></span></li></ul></div>"
   ]
  },
  {
   "cell_type": "markdown",
   "metadata": {
    "id": "pKlbheSUaIwR"
   },
   "source": [
    "<b>\n",
    "\n",
    "<p>\n",
    "<center>\n",
    "<font size=\"5\">\n",
    "CIGANs: A Python Package for Handling Class Imbalance using Generative Adversarial Networks\n",
    "</font>\n",
    "</center>\n",
    "</p>\n",
    "</b>"
   ]
  },
  {
   "cell_type": "markdown",
   "metadata": {
    "id": "rT2SKHw2zlEi"
   },
   "source": [
    "# Overview"
   ]
  },
  {
   "cell_type": "markdown",
   "metadata": {
    "id": "asZWLrJKzlEj"
   },
   "source": [
    "This notebook includes the code for an end-to-end pipeline for diagnosing cancer in BCW, introduced in the following paper submitted to Journal *Statistics in Medicine*:\n",
    "- \"Improving Classification Accuracy by Data Augmentation using Generative Adversarial Networks\""
   ]
  },
  {
   "cell_type": "markdown",
   "metadata": {
    "id": "WJ-IbZqAgILJ"
   },
   "source": [
    "# Notebook Configuration"
   ]
  },
  {
   "cell_type": "markdown",
   "metadata": {
    "id": "H3yB94KtgMHu"
   },
   "source": [
    "## Google drive"
   ]
  },
  {
   "cell_type": "code",
   "execution_count": 1,
   "metadata": {
    "colab": {
     "base_uri": "https://localhost:8080/"
    },
    "executionInfo": {
     "elapsed": 19035,
     "status": "ok",
     "timestamp": 1609346496443,
     "user": {
      "displayName": "Huang Yuxiao",
      "photoUrl": "",
      "userId": "05167076769245149404"
     },
     "user_tz": 300
    },
    "id": "jWmYBTOwgNs-",
    "outputId": "0172a1c8-f174-48d5-8154-b083f13531ac"
   },
   "outputs": [
    {
     "name": "stdout",
     "output_type": "stream",
     "text": [
      "Mounted at /content/drive\n"
     ]
    }
   ],
   "source": [
    "from google.colab import drive\n",
    "import sys\n",
    "\n",
    "# Mount Google Drive\n",
    "drive.mount('/content/drive')\n",
    "\n",
    "# Get the absolute path of the current folder\n",
    "abspath_curr = '/content/drive/My Drive/Colab Notebooks/research/gwu/paper/working/cigan/'\n",
    "\n",
    "# Get the absolute path of the shallow utilities folder\n",
    "abspath_util_shallow = abspath_curr + 'code/'"
   ]
  },
  {
   "cell_type": "markdown",
   "metadata": {
    "id": "bYZhU1Wqgmqx"
   },
   "source": [
    "## Warning"
   ]
  },
  {
   "cell_type": "code",
   "execution_count": 2,
   "metadata": {
    "executionInfo": {
     "elapsed": 19034,
     "status": "ok",
     "timestamp": 1609346496444,
     "user": {
      "displayName": "Huang Yuxiao",
      "photoUrl": "",
      "userId": "05167076769245149404"
     },
     "user_tz": 300
    },
    "id": "MUl4k83e4ANR"
   },
   "outputs": [],
   "source": [
    "import warnings\n",
    "\n",
    "# Ignore warnings\n",
    "warnings.filterwarnings('ignore')"
   ]
  },
  {
   "cell_type": "markdown",
   "metadata": {
    "id": "6WMODpPfgn2U"
   },
   "source": [
    "## Matplotlib"
   ]
  },
  {
   "cell_type": "code",
   "execution_count": 3,
   "metadata": {
    "executionInfo": {
     "elapsed": 19032,
     "status": "ok",
     "timestamp": 1609346496444,
     "user": {
      "displayName": "Huang Yuxiao",
      "photoUrl": "",
      "userId": "05167076769245149404"
     },
     "user_tz": 300
    },
    "id": "DBRVH9SB4ANb"
   },
   "outputs": [],
   "source": [
    "import matplotlib.pyplot as plt\n",
    "%matplotlib inline \n",
    "\n",
    "# Set matplotlib sizes\n",
    "plt.rc('font', size=20)\n",
    "plt.rc('axes', titlesize=20)\n",
    "plt.rc('axes', labelsize=20)\n",
    "plt.rc('xtick', labelsize=20)\n",
    "plt.rc('ytick', labelsize=20)\n",
    "plt.rc('legend', fontsize=18)\n",
    "plt.rc('figure', titlesize=20)"
   ]
  },
  {
   "cell_type": "markdown",
   "metadata": {
    "id": "n-wNDk5nZhhO"
   },
   "source": [
    "## TensorFlow"
   ]
  },
  {
   "cell_type": "code",
   "execution_count": 4,
   "metadata": {
    "executionInfo": {
     "elapsed": 20837,
     "status": "ok",
     "timestamp": 1609346498250,
     "user": {
      "displayName": "Huang Yuxiao",
      "photoUrl": "",
      "userId": "05167076769245149404"
     },
     "user_tz": 300
    },
    "id": "LjG43tEnZkfE"
   },
   "outputs": [],
   "source": [
    "# The magic below allows us to use tensorflow version 2.x\n",
    "%tensorflow_version 2.x \n",
    "import tensorflow as tf\n",
    "from tensorflow import keras"
   ]
  },
  {
   "cell_type": "markdown",
   "metadata": {
    "id": "40FN3UNfO2Z7"
   },
   "source": [
    "## Random seed"
   ]
  },
  {
   "cell_type": "code",
   "execution_count": 5,
   "metadata": {
    "executionInfo": {
     "elapsed": 20836,
     "status": "ok",
     "timestamp": 1609346498250,
     "user": {
      "displayName": "Huang Yuxiao",
      "photoUrl": "",
      "userId": "05167076769245149404"
     },
     "user_tz": 300
    },
    "id": "uSADk0hJP71d"
   },
   "outputs": [],
   "source": [
    "# The random seed\n",
    "random_seed = 42\n",
    "\n",
    "# Set random seed in tensorflow\n",
    "tf.random.set_seed(random_seed)\n",
    "\n",
    "# Set random seed in numpy\n",
    "import numpy as np\n",
    "np.random.seed(random_seed)"
   ]
  },
  {
   "cell_type": "markdown",
   "metadata": {
    "id": "2N71JTIGyJKh"
   },
   "source": [
    "# An End-to-End Pipeline for Predicting Cancer in BCW"
   ]
  },
  {
   "cell_type": "markdown",
   "metadata": {
    "id": "yAwfz8iYzlFC"
   },
   "source": [
    "## Step 1: Data preprocessing"
   ]
  },
  {
   "cell_type": "code",
   "execution_count": 6,
   "metadata": {
    "colab": {
     "base_uri": "https://localhost:8080/"
    },
    "executionInfo": {
     "elapsed": 23407,
     "status": "ok",
     "timestamp": 1609346500838,
     "user": {
      "displayName": "Huang Yuxiao",
      "photoUrl": "",
      "userId": "05167076769245149404"
     },
     "user_tz": 300
    },
    "id": "D-Mwc6MczlFD",
    "outputId": "1e98e892-3297-4896-8380-7c341c8b2cc9"
   },
   "outputs": [
    {
     "name": "stdout",
     "output_type": "stream",
     "text": [
      "/content/drive/My Drive/Colab Notebooks/research/gwu/paper/working/cigan/code\n"
     ]
    }
   ],
   "source": [
    "# Change working directory to the absolute path of the shallow utilities folder\n",
    "%cd $abspath_util_shallow\n",
    "\n",
    "# Import the shallow utitilities\n",
    "%run pmlm_utilities_shallow.ipynb"
   ]
  },
  {
   "cell_type": "markdown",
   "metadata": {
    "id": "oIJsDoJGzlFE"
   },
   "source": [
    "### Step 1a:  Loading the data"
   ]
  },
  {
   "cell_type": "markdown",
   "metadata": {
    "id": "Rk5KMdxqzlFE"
   },
   "source": [
    "In this pipeline, we will use the [Breast Cancer Wisconsin (Diagnostic) dataset](https://www.kaggle.com/uciml/breast-cancer-wisconsin-data)."
   ]
  },
  {
   "cell_type": "code",
   "execution_count": 7,
   "metadata": {
    "executionInfo": {
     "elapsed": 23598,
     "status": "ok",
     "timestamp": 1609346501030,
     "user": {
      "displayName": "Huang Yuxiao",
      "photoUrl": "",
      "userId": "05167076769245149404"
     },
     "user_tz": 300
    },
    "id": "eC6G3GdAyJKi",
    "scrolled": true
   },
   "outputs": [],
   "source": [
    "import pandas as pd\n",
    "\n",
    "# Load the raw data\n",
    "df_raw = pd.read_csv(abspath_curr + '/data/drug_consumption.data.txt',\n",
    "                     header=None,\n",
    "                     names=['ID', 'Age', 'Gender', 'Education', 'Country', 'Ethnicity', 'Nscore', 'Escore', 'Oscore', 'Ascore', 'Cscore', 'Impulsive', 'SS', 'Alcohol', 'Amphet', 'Amyl', 'Benzos', 'Caff', 'Cannabis', 'Choc', 'Coke', 'Crack', 'Ecstasy', 'Heroin', 'Ketamine', 'Legalh', 'LSD', 'Meth', 'Mushrooms', 'Nicotine', 'Semer', 'VSA'])\n",
    "\n",
    "# Remove the unnamed column\n",
    "df_raw = df_raw.drop(columns=['ID', 'Alcohol', 'Amphet', 'Amyl', 'Benzos', 'Caff', 'Cannabis', 'Choc', 'Coke', 'Crack', 'Ecstasy', 'Ketamine', 'Legalh', 'LSD', 'Meth', 'Mushrooms', 'Nicotine', 'Semer', 'VSA'])\n",
    "\n",
    "# Make a copy of df_raw\n",
    "df = df_raw.copy(deep=True)\n",
    "\n",
    "# Get the name of the target\n",
    "target = 'Heroin'\n",
    "\n",
    "# Combine classes into a super class\n",
    "for class_ in ['CL2', 'CL3', 'CL4', 'CL5', 'CL6']:\n",
    "    df[target][df[target] == class_] = 'CL1'"
   ]
  },
  {
   "cell_type": "code",
   "execution_count": 8,
   "metadata": {
    "colab": {
     "base_uri": "https://localhost:8080/",
     "height": 80
    },
    "executionInfo": {
     "elapsed": 23787,
     "status": "ok",
     "timestamp": 1609346501236,
     "user": {
      "displayName": "Huang Yuxiao",
      "photoUrl": "",
      "userId": "05167076769245149404"
     },
     "user_tz": 300
    },
    "id": "zoA_w8-eyJKk",
    "outputId": "bccc136b-99a7-4f06-cf20-7df67c077af0"
   },
   "outputs": [
    {
     "data": {
      "text/html": [
       "<div>\n",
       "<style scoped>\n",
       "    .dataframe tbody tr th:only-of-type {\n",
       "        vertical-align: middle;\n",
       "    }\n",
       "\n",
       "    .dataframe tbody tr th {\n",
       "        vertical-align: top;\n",
       "    }\n",
       "\n",
       "    .dataframe thead th {\n",
       "        text-align: right;\n",
       "    }\n",
       "</style>\n",
       "<table border=\"1\" class=\"dataframe\">\n",
       "  <thead>\n",
       "    <tr style=\"text-align: right;\">\n",
       "      <th></th>\n",
       "      <th># rows</th>\n",
       "      <th># columns</th>\n",
       "    </tr>\n",
       "  </thead>\n",
       "  <tbody>\n",
       "    <tr>\n",
       "      <th>0</th>\n",
       "      <td>1885</td>\n",
       "      <td>13</td>\n",
       "    </tr>\n",
       "  </tbody>\n",
       "</table>\n",
       "</div>"
      ],
      "text/plain": [
       "   # rows  # columns\n",
       "0    1885         13"
      ]
     },
     "execution_count": 8,
     "metadata": {
      "tags": []
     },
     "output_type": "execute_result"
    }
   ],
   "source": [
    "# Print the dimension of df\n",
    "pd.DataFrame([[df.shape[0], df.shape[1]]], columns=['# rows', '# columns'])"
   ]
  },
  {
   "cell_type": "code",
   "execution_count": 9,
   "metadata": {
    "colab": {
     "base_uri": "https://localhost:8080/",
     "height": 204
    },
    "executionInfo": {
     "elapsed": 23771,
     "status": "ok",
     "timestamp": 1609346501237,
     "user": {
      "displayName": "Huang Yuxiao",
      "photoUrl": "",
      "userId": "05167076769245149404"
     },
     "user_tz": 300
    },
    "id": "srQBlGfRyJKo",
    "outputId": "ac4db63f-16a9-4426-9850-717a876384b9",
    "scrolled": false
   },
   "outputs": [
    {
     "data": {
      "text/html": [
       "<div>\n",
       "<style scoped>\n",
       "    .dataframe tbody tr th:only-of-type {\n",
       "        vertical-align: middle;\n",
       "    }\n",
       "\n",
       "    .dataframe tbody tr th {\n",
       "        vertical-align: top;\n",
       "    }\n",
       "\n",
       "    .dataframe thead th {\n",
       "        text-align: right;\n",
       "    }\n",
       "</style>\n",
       "<table border=\"1\" class=\"dataframe\">\n",
       "  <thead>\n",
       "    <tr style=\"text-align: right;\">\n",
       "      <th></th>\n",
       "      <th>Age</th>\n",
       "      <th>Gender</th>\n",
       "      <th>Education</th>\n",
       "      <th>Country</th>\n",
       "      <th>Ethnicity</th>\n",
       "      <th>Nscore</th>\n",
       "      <th>Escore</th>\n",
       "      <th>Oscore</th>\n",
       "      <th>Ascore</th>\n",
       "      <th>Cscore</th>\n",
       "      <th>Impulsive</th>\n",
       "      <th>SS</th>\n",
       "      <th>Heroin</th>\n",
       "    </tr>\n",
       "  </thead>\n",
       "  <tbody>\n",
       "    <tr>\n",
       "      <th>0</th>\n",
       "      <td>0.49788</td>\n",
       "      <td>0.48246</td>\n",
       "      <td>-0.05921</td>\n",
       "      <td>0.96082</td>\n",
       "      <td>0.12600</td>\n",
       "      <td>0.31287</td>\n",
       "      <td>-0.57545</td>\n",
       "      <td>-0.58331</td>\n",
       "      <td>-0.91699</td>\n",
       "      <td>-0.00665</td>\n",
       "      <td>-0.21712</td>\n",
       "      <td>-1.18084</td>\n",
       "      <td>CL0</td>\n",
       "    </tr>\n",
       "    <tr>\n",
       "      <th>1</th>\n",
       "      <td>-0.07854</td>\n",
       "      <td>-0.48246</td>\n",
       "      <td>1.98437</td>\n",
       "      <td>0.96082</td>\n",
       "      <td>-0.31685</td>\n",
       "      <td>-0.67825</td>\n",
       "      <td>1.93886</td>\n",
       "      <td>1.43533</td>\n",
       "      <td>0.76096</td>\n",
       "      <td>-0.14277</td>\n",
       "      <td>-0.71126</td>\n",
       "      <td>-0.21575</td>\n",
       "      <td>CL0</td>\n",
       "    </tr>\n",
       "    <tr>\n",
       "      <th>2</th>\n",
       "      <td>0.49788</td>\n",
       "      <td>-0.48246</td>\n",
       "      <td>-0.05921</td>\n",
       "      <td>0.96082</td>\n",
       "      <td>-0.31685</td>\n",
       "      <td>-0.46725</td>\n",
       "      <td>0.80523</td>\n",
       "      <td>-0.84732</td>\n",
       "      <td>-1.62090</td>\n",
       "      <td>-1.01450</td>\n",
       "      <td>-1.37983</td>\n",
       "      <td>0.40148</td>\n",
       "      <td>CL0</td>\n",
       "    </tr>\n",
       "    <tr>\n",
       "      <th>3</th>\n",
       "      <td>-0.95197</td>\n",
       "      <td>0.48246</td>\n",
       "      <td>1.16365</td>\n",
       "      <td>0.96082</td>\n",
       "      <td>-0.31685</td>\n",
       "      <td>-0.14882</td>\n",
       "      <td>-0.80615</td>\n",
       "      <td>-0.01928</td>\n",
       "      <td>0.59042</td>\n",
       "      <td>0.58489</td>\n",
       "      <td>-1.37983</td>\n",
       "      <td>-1.18084</td>\n",
       "      <td>CL0</td>\n",
       "    </tr>\n",
       "    <tr>\n",
       "      <th>4</th>\n",
       "      <td>0.49788</td>\n",
       "      <td>0.48246</td>\n",
       "      <td>1.98437</td>\n",
       "      <td>0.96082</td>\n",
       "      <td>-0.31685</td>\n",
       "      <td>0.73545</td>\n",
       "      <td>-1.63340</td>\n",
       "      <td>-0.45174</td>\n",
       "      <td>-0.30172</td>\n",
       "      <td>1.30612</td>\n",
       "      <td>-0.21712</td>\n",
       "      <td>-0.21575</td>\n",
       "      <td>CL0</td>\n",
       "    </tr>\n",
       "  </tbody>\n",
       "</table>\n",
       "</div>"
      ],
      "text/plain": [
       "       Age   Gender  Education  Country  ...   Cscore  Impulsive       SS  Heroin\n",
       "0  0.49788  0.48246   -0.05921  0.96082  ... -0.00665   -0.21712 -1.18084     CL0\n",
       "1 -0.07854 -0.48246    1.98437  0.96082  ... -0.14277   -0.71126 -0.21575     CL0\n",
       "2  0.49788 -0.48246   -0.05921  0.96082  ... -1.01450   -1.37983  0.40148     CL0\n",
       "3 -0.95197  0.48246    1.16365  0.96082  ...  0.58489   -1.37983 -1.18084     CL0\n",
       "4  0.49788  0.48246    1.98437  0.96082  ...  1.30612   -0.21712 -0.21575     CL0\n",
       "\n",
       "[5 rows x 13 columns]"
      ]
     },
     "execution_count": 9,
     "metadata": {
      "tags": []
     },
     "output_type": "execute_result"
    }
   ],
   "source": [
    "# Print the first 5 rows of df\n",
    "df.head()"
   ]
  },
  {
   "cell_type": "markdown",
   "metadata": {
    "id": "Sm04mTxDyJKs"
   },
   "source": [
    "### Step 1b: Splitting the data\n",
    "The code below shows how to divide the data into training (50%), validation (20%) and test (30%)."
   ]
  },
  {
   "cell_type": "code",
   "execution_count": 10,
   "metadata": {
    "executionInfo": {
     "elapsed": 23770,
     "status": "ok",
     "timestamp": 1609346501237,
     "user": {
      "displayName": "Huang Yuxiao",
      "photoUrl": "",
      "userId": "05167076769245149404"
     },
     "user_tz": 300
    },
    "id": "10nSbPb5yJKt"
   },
   "outputs": [],
   "source": [
    "from sklearn.model_selection import train_test_split\n",
    "\n",
    "# Divide the data into training (50%) and test (50%)\n",
    "df_train, df_test = train_test_split(df, \n",
    "                                     train_size=0.5, \n",
    "                                     random_state=random_seed, \n",
    "                                     stratify=df[target])\n",
    "\n",
    "# Divide the test data into validation (60%) and test (40%)\n",
    "df_val, df_test = train_test_split(df_test, \n",
    "                                   train_size=0.4, \n",
    "                                   random_state=random_seed, \n",
    "                                   stratify=df_test[target])\n",
    "\n",
    "# Reset the index\n",
    "df_train, df_val, df_test = df_train.reset_index(drop=True), df_val.reset_index(drop=True), df_test.reset_index(drop=True)"
   ]
  },
  {
   "cell_type": "code",
   "execution_count": 11,
   "metadata": {
    "colab": {
     "base_uri": "https://localhost:8080/",
     "height": 80
    },
    "executionInfo": {
     "elapsed": 23755,
     "status": "ok",
     "timestamp": 1609346501238,
     "user": {
      "displayName": "Huang Yuxiao",
      "photoUrl": "",
      "userId": "05167076769245149404"
     },
     "user_tz": 300
    },
    "id": "2cWsAS6CyJKu",
    "outputId": "a2323538-edbd-46a5-d011-eb5662176beb"
   },
   "outputs": [
    {
     "data": {
      "text/html": [
       "<div>\n",
       "<style scoped>\n",
       "    .dataframe tbody tr th:only-of-type {\n",
       "        vertical-align: middle;\n",
       "    }\n",
       "\n",
       "    .dataframe tbody tr th {\n",
       "        vertical-align: top;\n",
       "    }\n",
       "\n",
       "    .dataframe thead th {\n",
       "        text-align: right;\n",
       "    }\n",
       "</style>\n",
       "<table border=\"1\" class=\"dataframe\">\n",
       "  <thead>\n",
       "    <tr style=\"text-align: right;\">\n",
       "      <th></th>\n",
       "      <th># rows</th>\n",
       "      <th># columns</th>\n",
       "    </tr>\n",
       "  </thead>\n",
       "  <tbody>\n",
       "    <tr>\n",
       "      <th>0</th>\n",
       "      <td>942</td>\n",
       "      <td>13</td>\n",
       "    </tr>\n",
       "  </tbody>\n",
       "</table>\n",
       "</div>"
      ],
      "text/plain": [
       "   # rows  # columns\n",
       "0     942         13"
      ]
     },
     "execution_count": 11,
     "metadata": {
      "tags": []
     },
     "output_type": "execute_result"
    }
   ],
   "source": [
    "# Print the dimension of df_train\n",
    "pd.DataFrame([[df_train.shape[0], df_train.shape[1]]], columns=['# rows', '# columns'])"
   ]
  },
  {
   "cell_type": "code",
   "execution_count": 12,
   "metadata": {
    "colab": {
     "base_uri": "https://localhost:8080/",
     "height": 80
    },
    "executionInfo": {
     "elapsed": 23739,
     "status": "ok",
     "timestamp": 1609346501238,
     "user": {
      "displayName": "Huang Yuxiao",
      "photoUrl": "",
      "userId": "05167076769245149404"
     },
     "user_tz": 300
    },
    "id": "tGtqJbbhyJKw",
    "outputId": "d73acc1c-b4aa-4e01-d1e7-08890e8330b3",
    "scrolled": true
   },
   "outputs": [
    {
     "data": {
      "text/html": [
       "<div>\n",
       "<style scoped>\n",
       "    .dataframe tbody tr th:only-of-type {\n",
       "        vertical-align: middle;\n",
       "    }\n",
       "\n",
       "    .dataframe tbody tr th {\n",
       "        vertical-align: top;\n",
       "    }\n",
       "\n",
       "    .dataframe thead th {\n",
       "        text-align: right;\n",
       "    }\n",
       "</style>\n",
       "<table border=\"1\" class=\"dataframe\">\n",
       "  <thead>\n",
       "    <tr style=\"text-align: right;\">\n",
       "      <th></th>\n",
       "      <th># rows</th>\n",
       "      <th># columns</th>\n",
       "    </tr>\n",
       "  </thead>\n",
       "  <tbody>\n",
       "    <tr>\n",
       "      <th>0</th>\n",
       "      <td>377</td>\n",
       "      <td>13</td>\n",
       "    </tr>\n",
       "  </tbody>\n",
       "</table>\n",
       "</div>"
      ],
      "text/plain": [
       "   # rows  # columns\n",
       "0     377         13"
      ]
     },
     "execution_count": 12,
     "metadata": {
      "tags": []
     },
     "output_type": "execute_result"
    }
   ],
   "source": [
    "# Print the dimension of df_val\n",
    "pd.DataFrame([[df_val.shape[0], df_val.shape[1]]], columns=['# rows', '# columns'])"
   ]
  },
  {
   "cell_type": "code",
   "execution_count": 13,
   "metadata": {
    "colab": {
     "base_uri": "https://localhost:8080/",
     "height": 80
    },
    "executionInfo": {
     "elapsed": 23724,
     "status": "ok",
     "timestamp": 1609346501239,
     "user": {
      "displayName": "Huang Yuxiao",
      "photoUrl": "",
      "userId": "05167076769245149404"
     },
     "user_tz": 300
    },
    "id": "J6HfL34uyJKy",
    "outputId": "9bc48628-6ffb-4ab4-8eeb-915b5d5c6af1",
    "scrolled": false
   },
   "outputs": [
    {
     "data": {
      "text/html": [
       "<div>\n",
       "<style scoped>\n",
       "    .dataframe tbody tr th:only-of-type {\n",
       "        vertical-align: middle;\n",
       "    }\n",
       "\n",
       "    .dataframe tbody tr th {\n",
       "        vertical-align: top;\n",
       "    }\n",
       "\n",
       "    .dataframe thead th {\n",
       "        text-align: right;\n",
       "    }\n",
       "</style>\n",
       "<table border=\"1\" class=\"dataframe\">\n",
       "  <thead>\n",
       "    <tr style=\"text-align: right;\">\n",
       "      <th></th>\n",
       "      <th># rows</th>\n",
       "      <th># columns</th>\n",
       "    </tr>\n",
       "  </thead>\n",
       "  <tbody>\n",
       "    <tr>\n",
       "      <th>0</th>\n",
       "      <td>566</td>\n",
       "      <td>13</td>\n",
       "    </tr>\n",
       "  </tbody>\n",
       "</table>\n",
       "</div>"
      ],
      "text/plain": [
       "   # rows  # columns\n",
       "0     566         13"
      ]
     },
     "execution_count": 13,
     "metadata": {
      "tags": []
     },
     "output_type": "execute_result"
    }
   ],
   "source": [
    "# Print the dimension of df_test\n",
    "pd.DataFrame([[df_test.shape[0], df_test.shape[1]]], columns=['# rows', '# columns'])"
   ]
  },
  {
   "cell_type": "markdown",
   "metadata": {
    "id": "0i88uPaRzlFV"
   },
   "source": [
    "### Step 1c: Handling patient identifiers"
   ]
  },
  {
   "cell_type": "markdown",
   "metadata": {
    "id": "W8-npdxxzlFV"
   },
   "source": [
    "#### Combining the training, validation and test data\n",
    "The code below shows how to combine the training, validation and test data."
   ]
  },
  {
   "cell_type": "code",
   "execution_count": 14,
   "metadata": {
    "executionInfo": {
     "elapsed": 23722,
     "status": "ok",
     "timestamp": 1609346501239,
     "user": {
      "displayName": "Huang Yuxiao",
      "photoUrl": "",
      "userId": "05167076769245149404"
     },
     "user_tz": 300
    },
    "id": "2djPwG2yzlFV"
   },
   "outputs": [],
   "source": [
    "# Combine df_train, df_val and df_test\n",
    "df = pd.concat([df_train, df_val, df_test], sort=False)"
   ]
  },
  {
   "cell_type": "markdown",
   "metadata": {
    "id": "lkVXIUx_zlFX"
   },
   "source": [
    "#### Identifying identifiers\n",
    "The code below shows how to find identifiers from data."
   ]
  },
  {
   "cell_type": "code",
   "execution_count": 15,
   "metadata": {
    "colab": {
     "base_uri": "https://localhost:8080/",
     "height": 187
    },
    "executionInfo": {
     "elapsed": 23706,
     "status": "ok",
     "timestamp": 1609346501239,
     "user": {
      "displayName": "Huang Yuxiao",
      "photoUrl": "",
      "userId": "05167076769245149404"
     },
     "user_tz": 300
    },
    "id": "m-MkTouVzlFX",
    "outputId": "17c1fb96-9f69-4c05-e178-0f8686d8f314",
    "scrolled": false
   },
   "outputs": [
    {
     "data": {
      "text/html": [
       "<div>\n",
       "<style scoped>\n",
       "    .dataframe tbody tr th:only-of-type {\n",
       "        vertical-align: middle;\n",
       "    }\n",
       "\n",
       "    .dataframe tbody tr th {\n",
       "        vertical-align: top;\n",
       "    }\n",
       "\n",
       "    .dataframe thead th {\n",
       "        text-align: right;\n",
       "    }\n",
       "</style>\n",
       "<table border=\"1\" class=\"dataframe\">\n",
       "  <thead>\n",
       "    <tr style=\"text-align: right;\">\n",
       "      <th></th>\n",
       "    </tr>\n",
       "  </thead>\n",
       "  <tbody>\n",
       "    <tr>\n",
       "      <th>0</th>\n",
       "    </tr>\n",
       "    <tr>\n",
       "      <th>1</th>\n",
       "    </tr>\n",
       "    <tr>\n",
       "      <th>2</th>\n",
       "    </tr>\n",
       "    <tr>\n",
       "      <th>3</th>\n",
       "    </tr>\n",
       "    <tr>\n",
       "      <th>4</th>\n",
       "    </tr>\n",
       "  </tbody>\n",
       "</table>\n",
       "</div>"
      ],
      "text/plain": [
       "Empty DataFrame\n",
       "Columns: []\n",
       "Index: [0, 1, 2, 3, 4]"
      ]
     },
     "execution_count": 15,
     "metadata": {
      "tags": []
     },
     "output_type": "execute_result"
    }
   ],
   "source": [
    "# Call id_checker on df\n",
    "# See the implementation in pmlm_utilities.ipynb\n",
    "df_id = id_checker(df)\n",
    "\n",
    "# Print the first 5 rows of df_id\n",
    "df_id.head()"
   ]
  },
  {
   "cell_type": "markdown",
   "metadata": {
    "id": "OUqe6lsczlFZ"
   },
   "source": [
    "#### Removing identifiers\n",
    "The code below shows how to remove identifiers from data."
   ]
  },
  {
   "cell_type": "code",
   "execution_count": 16,
   "metadata": {
    "executionInfo": {
     "elapsed": 23860,
     "status": "ok",
     "timestamp": 1609346501394,
     "user": {
      "displayName": "Huang Yuxiao",
      "photoUrl": "",
      "userId": "05167076769245149404"
     },
     "user_tz": 300
    },
    "id": "mDli2hF0zlFZ",
    "scrolled": true
   },
   "outputs": [],
   "source": [
    "import numpy as np\n",
    "\n",
    "# Remove identifiers from df_train\n",
    "df_train.drop(columns=np.intersect1d(df_id.columns, df_train.columns), inplace=True)\n",
    "\n",
    "# Remove identifiers from df_val\n",
    "df_val.drop(columns=np.intersect1d(df_id.columns, df_val.columns), inplace=True)\n",
    "\n",
    "# Remove identifiers from df_test\n",
    "df_test.drop(columns=np.intersect1d(df_id.columns, df_test.columns), inplace=True)"
   ]
  },
  {
   "cell_type": "code",
   "execution_count": 17,
   "metadata": {
    "colab": {
     "base_uri": "https://localhost:8080/",
     "height": 204
    },
    "executionInfo": {
     "elapsed": 23844,
     "status": "ok",
     "timestamp": 1609346501394,
     "user": {
      "displayName": "Huang Yuxiao",
      "photoUrl": "",
      "userId": "05167076769245149404"
     },
     "user_tz": 300
    },
    "id": "RMG8QKFezlFc",
    "outputId": "eaf44460-f840-412e-b6c3-b56d3878e019",
    "scrolled": false
   },
   "outputs": [
    {
     "data": {
      "text/html": [
       "<div>\n",
       "<style scoped>\n",
       "    .dataframe tbody tr th:only-of-type {\n",
       "        vertical-align: middle;\n",
       "    }\n",
       "\n",
       "    .dataframe tbody tr th {\n",
       "        vertical-align: top;\n",
       "    }\n",
       "\n",
       "    .dataframe thead th {\n",
       "        text-align: right;\n",
       "    }\n",
       "</style>\n",
       "<table border=\"1\" class=\"dataframe\">\n",
       "  <thead>\n",
       "    <tr style=\"text-align: right;\">\n",
       "      <th></th>\n",
       "      <th>Age</th>\n",
       "      <th>Gender</th>\n",
       "      <th>Education</th>\n",
       "      <th>Country</th>\n",
       "      <th>Ethnicity</th>\n",
       "      <th>Nscore</th>\n",
       "      <th>Escore</th>\n",
       "      <th>Oscore</th>\n",
       "      <th>Ascore</th>\n",
       "      <th>Cscore</th>\n",
       "      <th>Impulsive</th>\n",
       "      <th>SS</th>\n",
       "      <th>Heroin</th>\n",
       "    </tr>\n",
       "  </thead>\n",
       "  <tbody>\n",
       "    <tr>\n",
       "      <th>0</th>\n",
       "      <td>1.82213</td>\n",
       "      <td>-0.48246</td>\n",
       "      <td>0.45468</td>\n",
       "      <td>0.96082</td>\n",
       "      <td>-0.31685</td>\n",
       "      <td>-1.19430</td>\n",
       "      <td>1.11406</td>\n",
       "      <td>-0.31776</td>\n",
       "      <td>1.11406</td>\n",
       "      <td>0.93949</td>\n",
       "      <td>-0.21712</td>\n",
       "      <td>0.07987</td>\n",
       "      <td>CL0</td>\n",
       "    </tr>\n",
       "    <tr>\n",
       "      <th>1</th>\n",
       "      <td>-0.95197</td>\n",
       "      <td>-0.48246</td>\n",
       "      <td>-0.61113</td>\n",
       "      <td>-0.57009</td>\n",
       "      <td>-0.31685</td>\n",
       "      <td>-0.67825</td>\n",
       "      <td>0.47617</td>\n",
       "      <td>-0.17779</td>\n",
       "      <td>0.13136</td>\n",
       "      <td>1.46191</td>\n",
       "      <td>-0.71126</td>\n",
       "      <td>-1.18084</td>\n",
       "      <td>CL1</td>\n",
       "    </tr>\n",
       "    <tr>\n",
       "      <th>2</th>\n",
       "      <td>-0.95197</td>\n",
       "      <td>-0.48246</td>\n",
       "      <td>-0.61113</td>\n",
       "      <td>0.96082</td>\n",
       "      <td>-0.31685</td>\n",
       "      <td>-0.67825</td>\n",
       "      <td>0.00332</td>\n",
       "      <td>-0.45174</td>\n",
       "      <td>-0.91699</td>\n",
       "      <td>0.25953</td>\n",
       "      <td>0.52975</td>\n",
       "      <td>1.92173</td>\n",
       "      <td>CL0</td>\n",
       "    </tr>\n",
       "    <tr>\n",
       "      <th>3</th>\n",
       "      <td>0.49788</td>\n",
       "      <td>-0.48246</td>\n",
       "      <td>-0.05921</td>\n",
       "      <td>-0.28519</td>\n",
       "      <td>-0.31685</td>\n",
       "      <td>-1.19430</td>\n",
       "      <td>-0.80615</td>\n",
       "      <td>0.72330</td>\n",
       "      <td>-0.45321</td>\n",
       "      <td>0.25953</td>\n",
       "      <td>1.29221</td>\n",
       "      <td>-0.21575</td>\n",
       "      <td>CL0</td>\n",
       "    </tr>\n",
       "    <tr>\n",
       "      <th>4</th>\n",
       "      <td>-0.95197</td>\n",
       "      <td>0.48246</td>\n",
       "      <td>-1.43719</td>\n",
       "      <td>-0.57009</td>\n",
       "      <td>-0.31685</td>\n",
       "      <td>1.23461</td>\n",
       "      <td>1.11406</td>\n",
       "      <td>1.06238</td>\n",
       "      <td>-1.47955</td>\n",
       "      <td>0.12331</td>\n",
       "      <td>0.88113</td>\n",
       "      <td>1.92173</td>\n",
       "      <td>CL1</td>\n",
       "    </tr>\n",
       "  </tbody>\n",
       "</table>\n",
       "</div>"
      ],
      "text/plain": [
       "       Age   Gender  Education  Country  ...   Cscore  Impulsive       SS  Heroin\n",
       "0  1.82213 -0.48246    0.45468  0.96082  ...  0.93949   -0.21712  0.07987     CL0\n",
       "1 -0.95197 -0.48246   -0.61113 -0.57009  ...  1.46191   -0.71126 -1.18084     CL1\n",
       "2 -0.95197 -0.48246   -0.61113  0.96082  ...  0.25953    0.52975  1.92173     CL0\n",
       "3  0.49788 -0.48246   -0.05921 -0.28519  ...  0.25953    1.29221 -0.21575     CL0\n",
       "4 -0.95197  0.48246   -1.43719 -0.57009  ...  0.12331    0.88113  1.92173     CL1\n",
       "\n",
       "[5 rows x 13 columns]"
      ]
     },
     "execution_count": 17,
     "metadata": {
      "tags": []
     },
     "output_type": "execute_result"
    }
   ],
   "source": [
    "# Print the first 5 rows of df_train\n",
    "df_train.head()"
   ]
  },
  {
   "cell_type": "code",
   "execution_count": 18,
   "metadata": {
    "colab": {
     "base_uri": "https://localhost:8080/",
     "height": 204
    },
    "executionInfo": {
     "elapsed": 23829,
     "status": "ok",
     "timestamp": 1609346501395,
     "user": {
      "displayName": "Huang Yuxiao",
      "photoUrl": "",
      "userId": "05167076769245149404"
     },
     "user_tz": 300
    },
    "id": "Xk_c0vh8zlFe",
    "outputId": "adcb9e45-7bf1-48ac-fcd9-b878e4ee4131",
    "scrolled": false
   },
   "outputs": [
    {
     "data": {
      "text/html": [
       "<div>\n",
       "<style scoped>\n",
       "    .dataframe tbody tr th:only-of-type {\n",
       "        vertical-align: middle;\n",
       "    }\n",
       "\n",
       "    .dataframe tbody tr th {\n",
       "        vertical-align: top;\n",
       "    }\n",
       "\n",
       "    .dataframe thead th {\n",
       "        text-align: right;\n",
       "    }\n",
       "</style>\n",
       "<table border=\"1\" class=\"dataframe\">\n",
       "  <thead>\n",
       "    <tr style=\"text-align: right;\">\n",
       "      <th></th>\n",
       "      <th>Age</th>\n",
       "      <th>Gender</th>\n",
       "      <th>Education</th>\n",
       "      <th>Country</th>\n",
       "      <th>Ethnicity</th>\n",
       "      <th>Nscore</th>\n",
       "      <th>Escore</th>\n",
       "      <th>Oscore</th>\n",
       "      <th>Ascore</th>\n",
       "      <th>Cscore</th>\n",
       "      <th>Impulsive</th>\n",
       "      <th>SS</th>\n",
       "      <th>Heroin</th>\n",
       "    </tr>\n",
       "  </thead>\n",
       "  <tbody>\n",
       "    <tr>\n",
       "      <th>0</th>\n",
       "      <td>-0.07854</td>\n",
       "      <td>0.48246</td>\n",
       "      <td>0.45468</td>\n",
       "      <td>0.96082</td>\n",
       "      <td>-0.31685</td>\n",
       "      <td>-1.19430</td>\n",
       "      <td>0.80523</td>\n",
       "      <td>-0.97631</td>\n",
       "      <td>-0.45321</td>\n",
       "      <td>0.58489</td>\n",
       "      <td>-0.71126</td>\n",
       "      <td>-1.18084</td>\n",
       "      <td>CL0</td>\n",
       "    </tr>\n",
       "    <tr>\n",
       "      <th>1</th>\n",
       "      <td>0.49788</td>\n",
       "      <td>-0.48246</td>\n",
       "      <td>-0.05921</td>\n",
       "      <td>0.96082</td>\n",
       "      <td>-0.31685</td>\n",
       "      <td>-0.34799</td>\n",
       "      <td>-0.80615</td>\n",
       "      <td>-1.97495</td>\n",
       "      <td>1.11406</td>\n",
       "      <td>-0.65253</td>\n",
       "      <td>-0.21712</td>\n",
       "      <td>-0.21575</td>\n",
       "      <td>CL0</td>\n",
       "    </tr>\n",
       "    <tr>\n",
       "      <th>2</th>\n",
       "      <td>-0.95197</td>\n",
       "      <td>0.48246</td>\n",
       "      <td>-0.61113</td>\n",
       "      <td>-0.57009</td>\n",
       "      <td>-0.31685</td>\n",
       "      <td>1.98437</td>\n",
       "      <td>-1.92173</td>\n",
       "      <td>1.24033</td>\n",
       "      <td>1.45039</td>\n",
       "      <td>-1.13788</td>\n",
       "      <td>-0.21712</td>\n",
       "      <td>1.22470</td>\n",
       "      <td>CL0</td>\n",
       "    </tr>\n",
       "    <tr>\n",
       "      <th>3</th>\n",
       "      <td>-0.07854</td>\n",
       "      <td>-0.48246</td>\n",
       "      <td>0.45468</td>\n",
       "      <td>0.96082</td>\n",
       "      <td>-0.31685</td>\n",
       "      <td>-0.67825</td>\n",
       "      <td>0.96248</td>\n",
       "      <td>-0.71727</td>\n",
       "      <td>2.03972</td>\n",
       "      <td>1.13407</td>\n",
       "      <td>0.52975</td>\n",
       "      <td>-0.52593</td>\n",
       "      <td>CL0</td>\n",
       "    </tr>\n",
       "    <tr>\n",
       "      <th>4</th>\n",
       "      <td>0.49788</td>\n",
       "      <td>0.48246</td>\n",
       "      <td>0.45468</td>\n",
       "      <td>-0.57009</td>\n",
       "      <td>-0.31685</td>\n",
       "      <td>1.02119</td>\n",
       "      <td>-0.30033</td>\n",
       "      <td>1.06238</td>\n",
       "      <td>-1.07533</td>\n",
       "      <td>0.41594</td>\n",
       "      <td>-1.37983</td>\n",
       "      <td>-0.84637</td>\n",
       "      <td>CL0</td>\n",
       "    </tr>\n",
       "  </tbody>\n",
       "</table>\n",
       "</div>"
      ],
      "text/plain": [
       "       Age   Gender  Education  Country  ...   Cscore  Impulsive       SS  Heroin\n",
       "0 -0.07854  0.48246    0.45468  0.96082  ...  0.58489   -0.71126 -1.18084     CL0\n",
       "1  0.49788 -0.48246   -0.05921  0.96082  ... -0.65253   -0.21712 -0.21575     CL0\n",
       "2 -0.95197  0.48246   -0.61113 -0.57009  ... -1.13788   -0.21712  1.22470     CL0\n",
       "3 -0.07854 -0.48246    0.45468  0.96082  ...  1.13407    0.52975 -0.52593     CL0\n",
       "4  0.49788  0.48246    0.45468 -0.57009  ...  0.41594   -1.37983 -0.84637     CL0\n",
       "\n",
       "[5 rows x 13 columns]"
      ]
     },
     "execution_count": 18,
     "metadata": {
      "tags": []
     },
     "output_type": "execute_result"
    }
   ],
   "source": [
    "# Print the first 5 rows of df_val\n",
    "df_val.head()"
   ]
  },
  {
   "cell_type": "code",
   "execution_count": 19,
   "metadata": {
    "colab": {
     "base_uri": "https://localhost:8080/",
     "height": 204
    },
    "executionInfo": {
     "elapsed": 23812,
     "status": "ok",
     "timestamp": 1609346501395,
     "user": {
      "displayName": "Huang Yuxiao",
      "photoUrl": "",
      "userId": "05167076769245149404"
     },
     "user_tz": 300
    },
    "id": "ib3DKH0DzlFg",
    "outputId": "571af573-0402-4727-de75-0d3a92b58c2b",
    "scrolled": false
   },
   "outputs": [
    {
     "data": {
      "text/html": [
       "<div>\n",
       "<style scoped>\n",
       "    .dataframe tbody tr th:only-of-type {\n",
       "        vertical-align: middle;\n",
       "    }\n",
       "\n",
       "    .dataframe tbody tr th {\n",
       "        vertical-align: top;\n",
       "    }\n",
       "\n",
       "    .dataframe thead th {\n",
       "        text-align: right;\n",
       "    }\n",
       "</style>\n",
       "<table border=\"1\" class=\"dataframe\">\n",
       "  <thead>\n",
       "    <tr style=\"text-align: right;\">\n",
       "      <th></th>\n",
       "      <th>Age</th>\n",
       "      <th>Gender</th>\n",
       "      <th>Education</th>\n",
       "      <th>Country</th>\n",
       "      <th>Ethnicity</th>\n",
       "      <th>Nscore</th>\n",
       "      <th>Escore</th>\n",
       "      <th>Oscore</th>\n",
       "      <th>Ascore</th>\n",
       "      <th>Cscore</th>\n",
       "      <th>Impulsive</th>\n",
       "      <th>SS</th>\n",
       "      <th>Heroin</th>\n",
       "    </tr>\n",
       "  </thead>\n",
       "  <tbody>\n",
       "    <tr>\n",
       "      <th>0</th>\n",
       "      <td>-0.95197</td>\n",
       "      <td>-0.48246</td>\n",
       "      <td>-0.61113</td>\n",
       "      <td>0.24923</td>\n",
       "      <td>-0.31685</td>\n",
       "      <td>-1.43907</td>\n",
       "      <td>1.11406</td>\n",
       "      <td>0.58331</td>\n",
       "      <td>-0.60633</td>\n",
       "      <td>-0.78155</td>\n",
       "      <td>0.88113</td>\n",
       "      <td>0.40148</td>\n",
       "      <td>CL0</td>\n",
       "    </tr>\n",
       "    <tr>\n",
       "      <th>1</th>\n",
       "      <td>-0.07854</td>\n",
       "      <td>0.48246</td>\n",
       "      <td>0.45468</td>\n",
       "      <td>-0.09765</td>\n",
       "      <td>-0.31685</td>\n",
       "      <td>-1.32828</td>\n",
       "      <td>0.80523</td>\n",
       "      <td>1.43533</td>\n",
       "      <td>1.11406</td>\n",
       "      <td>0.12331</td>\n",
       "      <td>-0.21712</td>\n",
       "      <td>0.40148</td>\n",
       "      <td>CL0</td>\n",
       "    </tr>\n",
       "    <tr>\n",
       "      <th>2</th>\n",
       "      <td>-0.95197</td>\n",
       "      <td>0.48246</td>\n",
       "      <td>-0.61113</td>\n",
       "      <td>-0.57009</td>\n",
       "      <td>-0.31685</td>\n",
       "      <td>-1.32828</td>\n",
       "      <td>0.32197</td>\n",
       "      <td>0.72330</td>\n",
       "      <td>0.94156</td>\n",
       "      <td>1.63088</td>\n",
       "      <td>-0.71126</td>\n",
       "      <td>0.40148</td>\n",
       "      <td>CL0</td>\n",
       "    </tr>\n",
       "    <tr>\n",
       "      <th>3</th>\n",
       "      <td>-0.95197</td>\n",
       "      <td>0.48246</td>\n",
       "      <td>0.45468</td>\n",
       "      <td>0.96082</td>\n",
       "      <td>-0.31685</td>\n",
       "      <td>1.13281</td>\n",
       "      <td>0.80523</td>\n",
       "      <td>0.58331</td>\n",
       "      <td>0.94156</td>\n",
       "      <td>-1.51840</td>\n",
       "      <td>0.88113</td>\n",
       "      <td>-0.84637</td>\n",
       "      <td>CL0</td>\n",
       "    </tr>\n",
       "    <tr>\n",
       "      <th>4</th>\n",
       "      <td>0.49788</td>\n",
       "      <td>0.48246</td>\n",
       "      <td>-1.73790</td>\n",
       "      <td>0.96082</td>\n",
       "      <td>-0.31685</td>\n",
       "      <td>-0.79151</td>\n",
       "      <td>0.63779</td>\n",
       "      <td>-1.11902</td>\n",
       "      <td>1.28610</td>\n",
       "      <td>0.58489</td>\n",
       "      <td>-1.37983</td>\n",
       "      <td>-2.07848</td>\n",
       "      <td>CL0</td>\n",
       "    </tr>\n",
       "  </tbody>\n",
       "</table>\n",
       "</div>"
      ],
      "text/plain": [
       "       Age   Gender  Education  Country  ...   Cscore  Impulsive       SS  Heroin\n",
       "0 -0.95197 -0.48246   -0.61113  0.24923  ... -0.78155    0.88113  0.40148     CL0\n",
       "1 -0.07854  0.48246    0.45468 -0.09765  ...  0.12331   -0.21712  0.40148     CL0\n",
       "2 -0.95197  0.48246   -0.61113 -0.57009  ...  1.63088   -0.71126  0.40148     CL0\n",
       "3 -0.95197  0.48246    0.45468  0.96082  ... -1.51840    0.88113 -0.84637     CL0\n",
       "4  0.49788  0.48246   -1.73790  0.96082  ...  0.58489   -1.37983 -2.07848     CL0\n",
       "\n",
       "[5 rows x 13 columns]"
      ]
     },
     "execution_count": 19,
     "metadata": {
      "tags": []
     },
     "output_type": "execute_result"
    }
   ],
   "source": [
    "# Print the first 5 rows of df_test\n",
    "df_test.head()"
   ]
  },
  {
   "cell_type": "markdown",
   "metadata": {
    "id": "HWcUkrUCzlFv"
   },
   "source": [
    "### Step 1d: Encoding the data"
   ]
  },
  {
   "cell_type": "markdown",
   "metadata": {
    "id": "ezQ07Z9dzlFv"
   },
   "source": [
    "#### Combining the training, validation and test data\n",
    "The code below shows how to combine the training, validation and test data."
   ]
  },
  {
   "cell_type": "code",
   "execution_count": 20,
   "metadata": {
    "colab": {
     "base_uri": "https://localhost:8080/",
     "height": 111
    },
    "executionInfo": {
     "elapsed": 23796,
     "status": "ok",
     "timestamp": 1609346501395,
     "user": {
      "displayName": "Huang Yuxiao",
      "photoUrl": "",
      "userId": "05167076769245149404"
     },
     "user_tz": 300
    },
    "id": "fYrsGD60zlFv",
    "outputId": "65c952bb-e63d-4bb5-c11b-402e67a4d79a",
    "scrolled": true
   },
   "outputs": [
    {
     "data": {
      "text/html": [
       "<div>\n",
       "<style scoped>\n",
       "    .dataframe tbody tr th:only-of-type {\n",
       "        vertical-align: middle;\n",
       "    }\n",
       "\n",
       "    .dataframe tbody tr th {\n",
       "        vertical-align: top;\n",
       "    }\n",
       "\n",
       "    .dataframe thead th {\n",
       "        text-align: right;\n",
       "    }\n",
       "</style>\n",
       "<table border=\"1\" class=\"dataframe\">\n",
       "  <thead>\n",
       "    <tr style=\"text-align: right;\">\n",
       "      <th></th>\n",
       "      <th>dtype</th>\n",
       "    </tr>\n",
       "  </thead>\n",
       "  <tbody>\n",
       "    <tr>\n",
       "      <th>0</th>\n",
       "      <td>float64</td>\n",
       "    </tr>\n",
       "    <tr>\n",
       "      <th>1</th>\n",
       "      <td>object</td>\n",
       "    </tr>\n",
       "  </tbody>\n",
       "</table>\n",
       "</div>"
      ],
      "text/plain": [
       "     dtype\n",
       "0  float64\n",
       "1   object"
      ]
     },
     "execution_count": 20,
     "metadata": {
      "tags": []
     },
     "output_type": "execute_result"
    }
   ],
   "source": [
    "# Combine df_train, df_val and df_test\n",
    "df = pd.concat([df_train, df_val, df_test], sort=False)\n",
    "\n",
    "# Print the unique data type of variables in df\n",
    "pd.DataFrame(df.dtypes.unique(), columns=['dtype'])"
   ]
  },
  {
   "cell_type": "markdown",
   "metadata": {
    "id": "4qr55-jtzlFw"
   },
   "source": [
    "#### Identifying categorical variables"
   ]
  },
  {
   "cell_type": "markdown",
   "metadata": {
    "id": "1rNrzzadzlFx"
   },
   "source": [
    "The code below shows how to find categorical variables (whose data type is dtype) and their number of unique value."
   ]
  },
  {
   "cell_type": "code",
   "execution_count": 21,
   "metadata": {
    "colab": {
     "base_uri": "https://localhost:8080/",
     "height": 80
    },
    "executionInfo": {
     "elapsed": 24073,
     "status": "ok",
     "timestamp": 1609346501689,
     "user": {
      "displayName": "Huang Yuxiao",
      "photoUrl": "",
      "userId": "05167076769245149404"
     },
     "user_tz": 300
    },
    "id": "bguGxquQzlFx",
    "outputId": "cc769f3d-0a6d-43c8-d535-084e80e881ce",
    "scrolled": true
   },
   "outputs": [
    {
     "data": {
      "text/html": [
       "<div>\n",
       "<style scoped>\n",
       "    .dataframe tbody tr th:only-of-type {\n",
       "        vertical-align: middle;\n",
       "    }\n",
       "\n",
       "    .dataframe tbody tr th {\n",
       "        vertical-align: top;\n",
       "    }\n",
       "\n",
       "    .dataframe thead th {\n",
       "        text-align: right;\n",
       "    }\n",
       "</style>\n",
       "<table border=\"1\" class=\"dataframe\">\n",
       "  <thead>\n",
       "    <tr style=\"text-align: right;\">\n",
       "      <th></th>\n",
       "      <th>var</th>\n",
       "      <th>nunique</th>\n",
       "    </tr>\n",
       "  </thead>\n",
       "  <tbody>\n",
       "    <tr>\n",
       "      <th>0</th>\n",
       "      <td>Heroin</td>\n",
       "      <td>2</td>\n",
       "    </tr>\n",
       "  </tbody>\n",
       "</table>\n",
       "</div>"
      ],
      "text/plain": [
       "      var  nunique\n",
       "0  Heroin        2"
      ]
     },
     "execution_count": 21,
     "metadata": {
      "tags": []
     },
     "output_type": "execute_result"
    }
   ],
   "source": [
    "# Call cat_var_checker on df\n",
    "# See the implementation in pmlm_utilities.ipynb\n",
    "df_cat = cat_var_checker(df)\n",
    "\n",
    "# Print the dataframe\n",
    "df_cat"
   ]
  },
  {
   "cell_type": "markdown",
   "metadata": {
    "id": "hFantdOvzlFy"
   },
   "source": [
    "#### Encoding categorical features\n",
    "The code below shows how to encode categorical features in the combined data."
   ]
  },
  {
   "cell_type": "code",
   "execution_count": 22,
   "metadata": {
    "colab": {
     "base_uri": "https://localhost:8080/",
     "height": 204
    },
    "executionInfo": {
     "elapsed": 24056,
     "status": "ok",
     "timestamp": 1609346501689,
     "user": {
      "displayName": "Huang Yuxiao",
      "photoUrl": "",
      "userId": "05167076769245149404"
     },
     "user_tz": 300
    },
    "id": "VHiPUWGqzlFy",
    "outputId": "8a94d034-476a-4eaf-bca8-b861215c4496",
    "scrolled": false
   },
   "outputs": [
    {
     "data": {
      "text/html": [
       "<div>\n",
       "<style scoped>\n",
       "    .dataframe tbody tr th:only-of-type {\n",
       "        vertical-align: middle;\n",
       "    }\n",
       "\n",
       "    .dataframe tbody tr th {\n",
       "        vertical-align: top;\n",
       "    }\n",
       "\n",
       "    .dataframe thead th {\n",
       "        text-align: right;\n",
       "    }\n",
       "</style>\n",
       "<table border=\"1\" class=\"dataframe\">\n",
       "  <thead>\n",
       "    <tr style=\"text-align: right;\">\n",
       "      <th></th>\n",
       "      <th>Age</th>\n",
       "      <th>Gender</th>\n",
       "      <th>Education</th>\n",
       "      <th>Country</th>\n",
       "      <th>Ethnicity</th>\n",
       "      <th>Nscore</th>\n",
       "      <th>Escore</th>\n",
       "      <th>Oscore</th>\n",
       "      <th>Ascore</th>\n",
       "      <th>Cscore</th>\n",
       "      <th>Impulsive</th>\n",
       "      <th>SS</th>\n",
       "      <th>Heroin</th>\n",
       "    </tr>\n",
       "  </thead>\n",
       "  <tbody>\n",
       "    <tr>\n",
       "      <th>0</th>\n",
       "      <td>1.82213</td>\n",
       "      <td>-0.48246</td>\n",
       "      <td>0.45468</td>\n",
       "      <td>0.96082</td>\n",
       "      <td>-0.31685</td>\n",
       "      <td>-1.19430</td>\n",
       "      <td>1.11406</td>\n",
       "      <td>-0.31776</td>\n",
       "      <td>1.11406</td>\n",
       "      <td>0.93949</td>\n",
       "      <td>-0.21712</td>\n",
       "      <td>0.07987</td>\n",
       "      <td>CL0</td>\n",
       "    </tr>\n",
       "    <tr>\n",
       "      <th>1</th>\n",
       "      <td>-0.95197</td>\n",
       "      <td>-0.48246</td>\n",
       "      <td>-0.61113</td>\n",
       "      <td>-0.57009</td>\n",
       "      <td>-0.31685</td>\n",
       "      <td>-0.67825</td>\n",
       "      <td>0.47617</td>\n",
       "      <td>-0.17779</td>\n",
       "      <td>0.13136</td>\n",
       "      <td>1.46191</td>\n",
       "      <td>-0.71126</td>\n",
       "      <td>-1.18084</td>\n",
       "      <td>CL1</td>\n",
       "    </tr>\n",
       "    <tr>\n",
       "      <th>2</th>\n",
       "      <td>-0.95197</td>\n",
       "      <td>-0.48246</td>\n",
       "      <td>-0.61113</td>\n",
       "      <td>0.96082</td>\n",
       "      <td>-0.31685</td>\n",
       "      <td>-0.67825</td>\n",
       "      <td>0.00332</td>\n",
       "      <td>-0.45174</td>\n",
       "      <td>-0.91699</td>\n",
       "      <td>0.25953</td>\n",
       "      <td>0.52975</td>\n",
       "      <td>1.92173</td>\n",
       "      <td>CL0</td>\n",
       "    </tr>\n",
       "    <tr>\n",
       "      <th>3</th>\n",
       "      <td>0.49788</td>\n",
       "      <td>-0.48246</td>\n",
       "      <td>-0.05921</td>\n",
       "      <td>-0.28519</td>\n",
       "      <td>-0.31685</td>\n",
       "      <td>-1.19430</td>\n",
       "      <td>-0.80615</td>\n",
       "      <td>0.72330</td>\n",
       "      <td>-0.45321</td>\n",
       "      <td>0.25953</td>\n",
       "      <td>1.29221</td>\n",
       "      <td>-0.21575</td>\n",
       "      <td>CL0</td>\n",
       "    </tr>\n",
       "    <tr>\n",
       "      <th>4</th>\n",
       "      <td>-0.95197</td>\n",
       "      <td>0.48246</td>\n",
       "      <td>-1.43719</td>\n",
       "      <td>-0.57009</td>\n",
       "      <td>-0.31685</td>\n",
       "      <td>1.23461</td>\n",
       "      <td>1.11406</td>\n",
       "      <td>1.06238</td>\n",
       "      <td>-1.47955</td>\n",
       "      <td>0.12331</td>\n",
       "      <td>0.88113</td>\n",
       "      <td>1.92173</td>\n",
       "      <td>CL1</td>\n",
       "    </tr>\n",
       "  </tbody>\n",
       "</table>\n",
       "</div>"
      ],
      "text/plain": [
       "       Age   Gender  Education  Country  ...   Cscore  Impulsive       SS  Heroin\n",
       "0  1.82213 -0.48246    0.45468  0.96082  ...  0.93949   -0.21712  0.07987     CL0\n",
       "1 -0.95197 -0.48246   -0.61113 -0.57009  ...  1.46191   -0.71126 -1.18084     CL1\n",
       "2 -0.95197 -0.48246   -0.61113  0.96082  ...  0.25953    0.52975  1.92173     CL0\n",
       "3  0.49788 -0.48246   -0.05921 -0.28519  ...  0.25953    1.29221 -0.21575     CL0\n",
       "4 -0.95197  0.48246   -1.43719 -0.57009  ...  0.12331    0.88113  1.92173     CL1\n",
       "\n",
       "[5 rows x 13 columns]"
      ]
     },
     "execution_count": 22,
     "metadata": {
      "tags": []
     },
     "output_type": "execute_result"
    }
   ],
   "source": [
    "# One-hot-encode the categorical features in the combined data\n",
    "df = pd.get_dummies(df, columns=np.setdiff1d(df_cat['var'], [target]))\n",
    "\n",
    "# Print the first 5 rows of df\n",
    "df.head()"
   ]
  },
  {
   "cell_type": "markdown",
   "metadata": {
    "id": "0eSAn1mjyJLS"
   },
   "source": [
    "#### Encoding categorical target\n",
    "The code below shows how to encode categorical target in the combined data."
   ]
  },
  {
   "cell_type": "code",
   "execution_count": 23,
   "metadata": {
    "colab": {
     "base_uri": "https://localhost:8080/",
     "height": 204
    },
    "executionInfo": {
     "elapsed": 24040,
     "status": "ok",
     "timestamp": 1609346501690,
     "user": {
      "displayName": "Huang Yuxiao",
      "photoUrl": "",
      "userId": "05167076769245149404"
     },
     "user_tz": 300
    },
    "id": "ivjkBW9FyJLT",
    "outputId": "ddbbe197-ba2b-4b20-885d-abf29c57ec96",
    "scrolled": false
   },
   "outputs": [
    {
     "data": {
      "text/html": [
       "<div>\n",
       "<style scoped>\n",
       "    .dataframe tbody tr th:only-of-type {\n",
       "        vertical-align: middle;\n",
       "    }\n",
       "\n",
       "    .dataframe tbody tr th {\n",
       "        vertical-align: top;\n",
       "    }\n",
       "\n",
       "    .dataframe thead th {\n",
       "        text-align: right;\n",
       "    }\n",
       "</style>\n",
       "<table border=\"1\" class=\"dataframe\">\n",
       "  <thead>\n",
       "    <tr style=\"text-align: right;\">\n",
       "      <th></th>\n",
       "      <th>Age</th>\n",
       "      <th>Gender</th>\n",
       "      <th>Education</th>\n",
       "      <th>Country</th>\n",
       "      <th>Ethnicity</th>\n",
       "      <th>Nscore</th>\n",
       "      <th>Escore</th>\n",
       "      <th>Oscore</th>\n",
       "      <th>Ascore</th>\n",
       "      <th>Cscore</th>\n",
       "      <th>Impulsive</th>\n",
       "      <th>SS</th>\n",
       "      <th>Heroin</th>\n",
       "    </tr>\n",
       "  </thead>\n",
       "  <tbody>\n",
       "    <tr>\n",
       "      <th>0</th>\n",
       "      <td>1.82213</td>\n",
       "      <td>-0.48246</td>\n",
       "      <td>0.45468</td>\n",
       "      <td>0.96082</td>\n",
       "      <td>-0.31685</td>\n",
       "      <td>-1.19430</td>\n",
       "      <td>1.11406</td>\n",
       "      <td>-0.31776</td>\n",
       "      <td>1.11406</td>\n",
       "      <td>0.93949</td>\n",
       "      <td>-0.21712</td>\n",
       "      <td>0.07987</td>\n",
       "      <td>0</td>\n",
       "    </tr>\n",
       "    <tr>\n",
       "      <th>1</th>\n",
       "      <td>-0.95197</td>\n",
       "      <td>-0.48246</td>\n",
       "      <td>-0.61113</td>\n",
       "      <td>-0.57009</td>\n",
       "      <td>-0.31685</td>\n",
       "      <td>-0.67825</td>\n",
       "      <td>0.47617</td>\n",
       "      <td>-0.17779</td>\n",
       "      <td>0.13136</td>\n",
       "      <td>1.46191</td>\n",
       "      <td>-0.71126</td>\n",
       "      <td>-1.18084</td>\n",
       "      <td>1</td>\n",
       "    </tr>\n",
       "    <tr>\n",
       "      <th>2</th>\n",
       "      <td>-0.95197</td>\n",
       "      <td>-0.48246</td>\n",
       "      <td>-0.61113</td>\n",
       "      <td>0.96082</td>\n",
       "      <td>-0.31685</td>\n",
       "      <td>-0.67825</td>\n",
       "      <td>0.00332</td>\n",
       "      <td>-0.45174</td>\n",
       "      <td>-0.91699</td>\n",
       "      <td>0.25953</td>\n",
       "      <td>0.52975</td>\n",
       "      <td>1.92173</td>\n",
       "      <td>0</td>\n",
       "    </tr>\n",
       "    <tr>\n",
       "      <th>3</th>\n",
       "      <td>0.49788</td>\n",
       "      <td>-0.48246</td>\n",
       "      <td>-0.05921</td>\n",
       "      <td>-0.28519</td>\n",
       "      <td>-0.31685</td>\n",
       "      <td>-1.19430</td>\n",
       "      <td>-0.80615</td>\n",
       "      <td>0.72330</td>\n",
       "      <td>-0.45321</td>\n",
       "      <td>0.25953</td>\n",
       "      <td>1.29221</td>\n",
       "      <td>-0.21575</td>\n",
       "      <td>0</td>\n",
       "    </tr>\n",
       "    <tr>\n",
       "      <th>4</th>\n",
       "      <td>-0.95197</td>\n",
       "      <td>0.48246</td>\n",
       "      <td>-1.43719</td>\n",
       "      <td>-0.57009</td>\n",
       "      <td>-0.31685</td>\n",
       "      <td>1.23461</td>\n",
       "      <td>1.11406</td>\n",
       "      <td>1.06238</td>\n",
       "      <td>-1.47955</td>\n",
       "      <td>0.12331</td>\n",
       "      <td>0.88113</td>\n",
       "      <td>1.92173</td>\n",
       "      <td>1</td>\n",
       "    </tr>\n",
       "  </tbody>\n",
       "</table>\n",
       "</div>"
      ],
      "text/plain": [
       "       Age   Gender  Education  Country  ...   Cscore  Impulsive       SS  Heroin\n",
       "0  1.82213 -0.48246    0.45468  0.96082  ...  0.93949   -0.21712  0.07987       0\n",
       "1 -0.95197 -0.48246   -0.61113 -0.57009  ...  1.46191   -0.71126 -1.18084       1\n",
       "2 -0.95197 -0.48246   -0.61113  0.96082  ...  0.25953    0.52975  1.92173       0\n",
       "3  0.49788 -0.48246   -0.05921 -0.28519  ...  0.25953    1.29221 -0.21575       0\n",
       "4 -0.95197  0.48246   -1.43719 -0.57009  ...  0.12331    0.88113  1.92173       1\n",
       "\n",
       "[5 rows x 13 columns]"
      ]
     },
     "execution_count": 23,
     "metadata": {
      "tags": []
     },
     "output_type": "execute_result"
    }
   ],
   "source": [
    "from sklearn.preprocessing import LabelEncoder\n",
    "\n",
    "# The LabelEncoder\n",
    "le = LabelEncoder()\n",
    "\n",
    "# Encode categorical target in the combined data\n",
    "df[target] = le.fit_transform(df[target].astype(str))\n",
    "\n",
    "# Print the first 5 rows of df\n",
    "df.head()"
   ]
  },
  {
   "cell_type": "markdown",
   "metadata": {
    "id": "M4nnAv_YzlFz"
   },
   "source": [
    "#### Separating the training, validation and test data\n",
    "The code below shows how to separate the training, validation and test data."
   ]
  },
  {
   "cell_type": "code",
   "execution_count": 24,
   "metadata": {
    "executionInfo": {
     "elapsed": 24039,
     "status": "ok",
     "timestamp": 1609346501690,
     "user": {
      "displayName": "Huang Yuxiao",
      "photoUrl": "",
      "userId": "05167076769245149404"
     },
     "user_tz": 300
    },
    "id": "53RGy5NRzlF0"
   },
   "outputs": [],
   "source": [
    "# Separating the training data\n",
    "df_train = df.iloc[:df_train.shape[0], :]\n",
    "\n",
    "# Separating the validation data\n",
    "df_val = df.iloc[df_train.shape[0]:df_train.shape[0] + df_val.shape[0], :]\n",
    "\n",
    "# Separating the test data\n",
    "df_test = df.iloc[df_train.shape[0] + df_val.shape[0]:, :]"
   ]
  },
  {
   "cell_type": "code",
   "execution_count": 25,
   "metadata": {
    "colab": {
     "base_uri": "https://localhost:8080/",
     "height": 80
    },
    "executionInfo": {
     "elapsed": 24023,
     "status": "ok",
     "timestamp": 1609346501690,
     "user": {
      "displayName": "Huang Yuxiao",
      "photoUrl": "",
      "userId": "05167076769245149404"
     },
     "user_tz": 300
    },
    "id": "kz0qdOrlzlF1",
    "outputId": "9cd265b9-a02c-4e27-c562-58606ea4d540",
    "scrolled": true
   },
   "outputs": [
    {
     "data": {
      "text/html": [
       "<div>\n",
       "<style scoped>\n",
       "    .dataframe tbody tr th:only-of-type {\n",
       "        vertical-align: middle;\n",
       "    }\n",
       "\n",
       "    .dataframe tbody tr th {\n",
       "        vertical-align: top;\n",
       "    }\n",
       "\n",
       "    .dataframe thead th {\n",
       "        text-align: right;\n",
       "    }\n",
       "</style>\n",
       "<table border=\"1\" class=\"dataframe\">\n",
       "  <thead>\n",
       "    <tr style=\"text-align: right;\">\n",
       "      <th></th>\n",
       "      <th># rows</th>\n",
       "      <th># columns</th>\n",
       "    </tr>\n",
       "  </thead>\n",
       "  <tbody>\n",
       "    <tr>\n",
       "      <th>0</th>\n",
       "      <td>942</td>\n",
       "      <td>13</td>\n",
       "    </tr>\n",
       "  </tbody>\n",
       "</table>\n",
       "</div>"
      ],
      "text/plain": [
       "   # rows  # columns\n",
       "0     942         13"
      ]
     },
     "execution_count": 25,
     "metadata": {
      "tags": []
     },
     "output_type": "execute_result"
    }
   ],
   "source": [
    "# Print the dimension of df_train\n",
    "pd.DataFrame([[df_train.shape[0], df_train.shape[1]]], columns=['# rows', '# columns'])"
   ]
  },
  {
   "cell_type": "code",
   "execution_count": 26,
   "metadata": {
    "colab": {
     "base_uri": "https://localhost:8080/",
     "height": 80
    },
    "executionInfo": {
     "elapsed": 24007,
     "status": "ok",
     "timestamp": 1609346501690,
     "user": {
      "displayName": "Huang Yuxiao",
      "photoUrl": "",
      "userId": "05167076769245149404"
     },
     "user_tz": 300
    },
    "id": "AOhCPkt3zlF2",
    "outputId": "e11c2bf0-6624-4c9a-9b5f-9ba9b4b959c9",
    "scrolled": true
   },
   "outputs": [
    {
     "data": {
      "text/html": [
       "<div>\n",
       "<style scoped>\n",
       "    .dataframe tbody tr th:only-of-type {\n",
       "        vertical-align: middle;\n",
       "    }\n",
       "\n",
       "    .dataframe tbody tr th {\n",
       "        vertical-align: top;\n",
       "    }\n",
       "\n",
       "    .dataframe thead th {\n",
       "        text-align: right;\n",
       "    }\n",
       "</style>\n",
       "<table border=\"1\" class=\"dataframe\">\n",
       "  <thead>\n",
       "    <tr style=\"text-align: right;\">\n",
       "      <th></th>\n",
       "      <th># rows</th>\n",
       "      <th># columns</th>\n",
       "    </tr>\n",
       "  </thead>\n",
       "  <tbody>\n",
       "    <tr>\n",
       "      <th>0</th>\n",
       "      <td>377</td>\n",
       "      <td>13</td>\n",
       "    </tr>\n",
       "  </tbody>\n",
       "</table>\n",
       "</div>"
      ],
      "text/plain": [
       "   # rows  # columns\n",
       "0     377         13"
      ]
     },
     "execution_count": 26,
     "metadata": {
      "tags": []
     },
     "output_type": "execute_result"
    }
   ],
   "source": [
    "# Print the dimension of df_val\n",
    "pd.DataFrame([[df_val.shape[0], df_val.shape[1]]], columns=['# rows', '# columns'])"
   ]
  },
  {
   "cell_type": "code",
   "execution_count": 27,
   "metadata": {
    "colab": {
     "base_uri": "https://localhost:8080/",
     "height": 80
    },
    "executionInfo": {
     "elapsed": 24227,
     "status": "ok",
     "timestamp": 1609346501927,
     "user": {
      "displayName": "Huang Yuxiao",
      "photoUrl": "",
      "userId": "05167076769245149404"
     },
     "user_tz": 300
    },
    "id": "Z1unjEYDzlF4",
    "outputId": "83de478c-f77e-42fa-9e0f-59ef43d2f82f",
    "scrolled": false
   },
   "outputs": [
    {
     "data": {
      "text/html": [
       "<div>\n",
       "<style scoped>\n",
       "    .dataframe tbody tr th:only-of-type {\n",
       "        vertical-align: middle;\n",
       "    }\n",
       "\n",
       "    .dataframe tbody tr th {\n",
       "        vertical-align: top;\n",
       "    }\n",
       "\n",
       "    .dataframe thead th {\n",
       "        text-align: right;\n",
       "    }\n",
       "</style>\n",
       "<table border=\"1\" class=\"dataframe\">\n",
       "  <thead>\n",
       "    <tr style=\"text-align: right;\">\n",
       "      <th></th>\n",
       "      <th># rows</th>\n",
       "      <th># columns</th>\n",
       "    </tr>\n",
       "  </thead>\n",
       "  <tbody>\n",
       "    <tr>\n",
       "      <th>0</th>\n",
       "      <td>566</td>\n",
       "      <td>13</td>\n",
       "    </tr>\n",
       "  </tbody>\n",
       "</table>\n",
       "</div>"
      ],
      "text/plain": [
       "   # rows  # columns\n",
       "0     566         13"
      ]
     },
     "execution_count": 27,
     "metadata": {
      "tags": []
     },
     "output_type": "execute_result"
    }
   ],
   "source": [
    "# Print the dimension of df_test\n",
    "pd.DataFrame([[df_test.shape[0], df_test.shape[1]]], columns=['# rows', '# columns'])"
   ]
  },
  {
   "cell_type": "markdown",
   "metadata": {
    "id": "Edju_Ur9zlF8"
   },
   "source": [
    "### Step 1e: Splitting the feature and target\n",
    "The code below shows how to split the feature and target."
   ]
  },
  {
   "cell_type": "code",
   "execution_count": 28,
   "metadata": {
    "executionInfo": {
     "elapsed": 24226,
     "status": "ok",
     "timestamp": 1609346501927,
     "user": {
      "displayName": "Huang Yuxiao",
      "photoUrl": "",
      "userId": "05167076769245149404"
     },
     "user_tz": 300
    },
    "id": "GM7JSraLzlF8"
   },
   "outputs": [],
   "source": [
    "# Get the feature matrix\n",
    "X_train = df_train[np.setdiff1d(df_train.columns, [target])].values\n",
    "X_val = df_val[np.setdiff1d(df_val.columns, [target])].values\n",
    "X_test = df_test[np.setdiff1d(df_test.columns, [target])].values\n",
    "\n",
    "# Get the target vector\n",
    "y_train = df_train[target].values\n",
    "y_val = df_val[target].values\n",
    "y_test = df_test[target].values"
   ]
  },
  {
   "cell_type": "markdown",
   "metadata": {
    "id": "S7-Kc1AyzlF7"
   },
   "source": [
    "### Step 1f: Scaling the features"
   ]
  },
  {
   "cell_type": "markdown",
   "metadata": {
    "id": "NTSB5KZNXY2m"
   },
   "source": [
    "#### Normalizing the features\n",
    "The code below shows how to normalize the features."
   ]
  },
  {
   "cell_type": "code",
   "execution_count": 29,
   "metadata": {
    "executionInfo": {
     "elapsed": 24226,
     "status": "ok",
     "timestamp": 1609346501928,
     "user": {
      "displayName": "Huang Yuxiao",
      "photoUrl": "",
      "userId": "05167076769245149404"
     },
     "user_tz": 300
    },
    "id": "uOEGs_fiXY2m"
   },
   "outputs": [],
   "source": [
    "from sklearn.preprocessing import MinMaxScaler\n",
    "\n",
    "# The MinMaxScaler\n",
    "mms = MinMaxScaler()\n",
    "\n",
    "# Normalize the training data\n",
    "X_train = mms.fit_transform(X_train)\n",
    "\n",
    "# Normalize the validation data\n",
    "X_val = mms.transform(X_val)\n",
    "\n",
    "# Normalize the test data\n",
    "X_test = mms.transform(X_test)"
   ]
  },
  {
   "cell_type": "markdown",
   "metadata": {
    "id": "szS5qt33fLHq"
   },
   "source": [
    "## Step 2: Data augmentation using RO, SOMTE and GANs"
   ]
  },
  {
   "cell_type": "markdown",
   "metadata": {
    "id": "svqeEQFek67X"
   },
   "source": [
    "### Step 2a: Obtaining the number of samples for each class and identifying the minority class"
   ]
  },
  {
   "cell_type": "markdown",
   "metadata": {
    "id": "USBwi0D0kn6I"
   },
   "source": [
    "#### Obtaining the number of samples for each class "
   ]
  },
  {
   "cell_type": "code",
   "execution_count": 30,
   "metadata": {
    "colab": {
     "base_uri": "https://localhost:8080/"
    },
    "executionInfo": {
     "elapsed": 24209,
     "status": "ok",
     "timestamp": 1609346501928,
     "user": {
      "displayName": "Huang Yuxiao",
      "photoUrl": "",
      "userId": "05167076769245149404"
     },
     "user_tz": 300
    },
    "id": "YyRT3GZYfLHq",
    "outputId": "c3c0c9c9-6cfd-44f2-b441-7b1b8d4e1d88",
    "scrolled": true
   },
   "outputs": [
    {
     "data": {
      "text/plain": [
       "1    140\n",
       "0    802\n",
       "dtype: int64"
      ]
     },
     "execution_count": 30,
     "metadata": {
      "tags": []
     },
     "output_type": "execute_result"
    }
   ],
   "source": [
    "value_counts = pd.Series(y_train).value_counts(ascending=True)\n",
    "value_counts"
   ]
  },
  {
   "cell_type": "markdown",
   "metadata": {
    "id": "utqpLPaAeXVR"
   },
   "source": [
    "#### Identifying the minority classes"
   ]
  },
  {
   "cell_type": "code",
   "execution_count": 31,
   "metadata": {
    "colab": {
     "base_uri": "https://localhost:8080/"
    },
    "executionInfo": {
     "elapsed": 24193,
     "status": "ok",
     "timestamp": 1609346501928,
     "user": {
      "displayName": "Huang Yuxiao",
      "photoUrl": "",
      "userId": "05167076769245149404"
     },
     "user_tz": 300
    },
    "id": "jmehuerOfRAO",
    "outputId": "3cdc2572-85b0-438d-9c86-9216e7ff984f",
    "scrolled": true
   },
   "outputs": [
    {
     "data": {
      "text/plain": [
       "1"
      ]
     },
     "execution_count": 31,
     "metadata": {
      "tags": []
     },
     "output_type": "execute_result"
    }
   ],
   "source": [
    "minor_classes = value_counts.index[0]\n",
    "minor_classes"
   ]
  },
  {
   "cell_type": "markdown",
   "metadata": {
    "id": "gTJKO4YI_Fb3"
   },
   "source": [
    "### Step 2b: Applying RO and SMOTE"
   ]
  },
  {
   "cell_type": "markdown",
   "metadata": {
    "id": "5fu4olFBk67a"
   },
   "source": [
    "#### Applying RO\n",
    "The code below shows how to use Random Oversampling to augment the minority class (so as to produce balanced data)."
   ]
  },
  {
   "cell_type": "markdown",
   "metadata": {
    "id": "hxBWJlkFq224"
   },
   "source": [
    "##### Augmenting the minority class in the training data"
   ]
  },
  {
   "cell_type": "code",
   "execution_count": 32,
   "metadata": {
    "executionInfo": {
     "elapsed": 24191,
     "status": "ok",
     "timestamp": 1609346501928,
     "user": {
      "displayName": "Huang Yuxiao",
      "photoUrl": "",
      "userId": "05167076769245149404"
     },
     "user_tz": 300
    },
    "id": "eolzxm9v-2nX"
   },
   "outputs": [],
   "source": [
    "from imblearn.over_sampling import RandomOverSampler\n",
    "\n",
    "# The RandomOverSampler\n",
    "ros = RandomOverSampler(random_state=random_seed)\n",
    "\n",
    "# Augment the minority classes in the training data\n",
    "X_ros_train, y_ros_train = ros.fit_resample(X_train, y_train)"
   ]
  },
  {
   "cell_type": "markdown",
   "metadata": {
    "id": "Dx53fMHrUeLU"
   },
   "source": [
    "##### Getting the class distribution"
   ]
  },
  {
   "cell_type": "code",
   "execution_count": 33,
   "metadata": {
    "colab": {
     "base_uri": "https://localhost:8080/"
    },
    "executionInfo": {
     "elapsed": 24176,
     "status": "ok",
     "timestamp": 1609346501929,
     "user": {
      "displayName": "Huang Yuxiao",
      "photoUrl": "",
      "userId": "05167076769245149404"
     },
     "user_tz": 300
    },
    "id": "Uxcu6bzHq225",
    "outputId": "7177df93-a763-456f-9974-e4669ed6979a"
   },
   "outputs": [
    {
     "data": {
      "text/plain": [
       "1    802\n",
       "0    802\n",
       "dtype: int64"
      ]
     },
     "execution_count": 33,
     "metadata": {
      "tags": []
     },
     "output_type": "execute_result"
    }
   ],
   "source": [
    "pd.Series(y_ros_train).value_counts()"
   ]
  },
  {
   "cell_type": "markdown",
   "metadata": {
    "id": "_QfXeKAy_Jfd"
   },
   "source": [
    "#### Applying SMOTE\n",
    "The code below shows how to use SMOTE to augment the minority class (so as to produce balanced data)."
   ]
  },
  {
   "cell_type": "markdown",
   "metadata": {
    "id": "u4Y4bA21UeLV"
   },
   "source": [
    "##### Augmenting the minority class in the training data"
   ]
  },
  {
   "cell_type": "code",
   "execution_count": 34,
   "metadata": {
    "executionInfo": {
     "elapsed": 24174,
     "status": "ok",
     "timestamp": 1609346501929,
     "user": {
      "displayName": "Huang Yuxiao",
      "photoUrl": "",
      "userId": "05167076769245149404"
     },
     "user_tz": 300
    },
    "id": "oV2f1pAY_C5b"
   },
   "outputs": [],
   "source": [
    "from imblearn.over_sampling import SMOTE\n",
    "\n",
    "# The SMOTE\n",
    "smote = SMOTE(random_state=random_seed)\n",
    "\n",
    "# Augment the minority classes in the training data\n",
    "X_smote_train, y_smote_train = smote.fit_resample(X_train, y_train)"
   ]
  },
  {
   "cell_type": "markdown",
   "metadata": {
    "id": "GDFLWQ5yq227"
   },
   "source": [
    "##### Getting the class distribution"
   ]
  },
  {
   "cell_type": "code",
   "execution_count": 35,
   "metadata": {
    "colab": {
     "base_uri": "https://localhost:8080/"
    },
    "executionInfo": {
     "elapsed": 24158,
     "status": "ok",
     "timestamp": 1609346501929,
     "user": {
      "displayName": "Huang Yuxiao",
      "photoUrl": "",
      "userId": "05167076769245149404"
     },
     "user_tz": 300
    },
    "id": "G5s5So-Bq227",
    "outputId": "7783e5be-9030-4160-c910-c7dca213d4f8",
    "scrolled": true
   },
   "outputs": [
    {
     "data": {
      "text/plain": [
       "1    802\n",
       "0    802\n",
       "dtype: int64"
      ]
     },
     "execution_count": 35,
     "metadata": {
      "tags": []
     },
     "output_type": "execute_result"
    }
   ],
   "source": [
    "pd.Series(y_smote_train).value_counts()"
   ]
  },
  {
   "cell_type": "markdown",
   "metadata": {
    "id": "2EFc1RYYbT66"
   },
   "source": [
    "### Step 2c: Applying GANs\n",
    "The code below shows how to use GANs to augment the minority class (so as to produce balanced data)."
   ]
  },
  {
   "cell_type": "code",
   "execution_count": 36,
   "metadata": {
    "colab": {
     "base_uri": "https://localhost:8080/"
    },
    "executionInfo": {
     "elapsed": 26039,
     "status": "ok",
     "timestamp": 1609346503827,
     "user": {
      "displayName": "Huang Yuxiao",
      "photoUrl": "",
      "userId": "05167076769245149404"
     },
     "user_tz": 300
    },
    "id": "EHaZTiz4Gxvx",
    "outputId": "0ecb4c55-5641-4a06-d59b-755ea39cf5ad"
   },
   "outputs": [
    {
     "name": "stdout",
     "output_type": "stream",
     "text": [
      "/content/drive/My Drive/Colab Notebooks/research/gwu/paper/working/cigan/code\n"
     ]
    }
   ],
   "source": [
    "# Change working directory to the absolute path of the shallow utilities folder\n",
    "%cd $abspath_util_shallow\n",
    "\n",
    "# Import the shallow utitilities\n",
    "%run cigan.ipynb"
   ]
  },
  {
   "cell_type": "markdown",
   "metadata": {
    "id": "pRgbNDPdNAq-"
   },
   "source": [
    "#### Creating the directory of the saved GANs"
   ]
  },
  {
   "cell_type": "code",
   "execution_count": 37,
   "metadata": {
    "executionInfo": {
     "elapsed": 26039,
     "status": "ok",
     "timestamp": 1609346503828,
     "user": {
      "displayName": "Huang Yuxiao",
      "photoUrl": "",
      "userId": "05167076769245149404"
     },
     "user_tz": 300
    },
    "id": "__28jlkXNET1"
   },
   "outputs": [],
   "source": [
    "import os\n",
    "\n",
    "# Make directory\n",
    "directory = os.path.dirname(abspath_curr + '/result/model/')\n",
    "if not os.path.exists(directory):\n",
    "    os.makedirs(directory)"
   ]
  },
  {
   "cell_type": "markdown",
   "metadata": {
    "id": "_TE9cMfIGxvy"
   },
   "source": [
    "##### Augmenting the minority class in the training data"
   ]
  },
  {
   "cell_type": "code",
   "execution_count": 38,
   "metadata": {
    "executionInfo": {
     "elapsed": 30758,
     "status": "ok",
     "timestamp": 1609346508548,
     "user": {
      "displayName": "Huang Yuxiao",
      "photoUrl": "",
      "userId": "05167076769245149404"
     },
     "user_tz": 300
    },
    "id": "PhxZ9686i3oi"
   },
   "outputs": [],
   "source": [
    "# The CIGAN\n",
    "cigan = CIGAN(generator_learning_rate=10 ** -4, discriminator_learning_rate=10 ** -4)\n",
    "\n",
    "# Augment the minority classes in the training data\n",
    "X_gan_train, y_gan_train = cigan.fit_resample(X_train, y_train)"
   ]
  },
  {
   "cell_type": "markdown",
   "metadata": {
    "id": "a9-CkZiZ1g6X"
   },
   "source": [
    "##### Getting the class distribution"
   ]
  },
  {
   "cell_type": "code",
   "execution_count": 39,
   "metadata": {
    "colab": {
     "base_uri": "https://localhost:8080/"
    },
    "executionInfo": {
     "elapsed": 30744,
     "status": "ok",
     "timestamp": 1609346508550,
     "user": {
      "displayName": "Huang Yuxiao",
      "photoUrl": "",
      "userId": "05167076769245149404"
     },
     "user_tz": 300
    },
    "id": "BvXfDOPQvL9E",
    "outputId": "b28e8f21-f6f8-479f-8edb-37b0d81dfa61"
   },
   "outputs": [
    {
     "data": {
      "text/plain": [
       "1.0    802\n",
       "0.0    802\n",
       "dtype: int64"
      ]
     },
     "execution_count": 39,
     "metadata": {
      "tags": []
     },
     "output_type": "execute_result"
    }
   ],
   "source": [
    "pd.Series(y_gan_train).value_counts()"
   ]
  },
  {
   "cell_type": "markdown",
   "metadata": {
    "id": "ShXWEyhmOsaP"
   },
   "source": [
    "## Step 3: Training, validating and testing the classifiers "
   ]
  },
  {
   "cell_type": "markdown",
   "metadata": {
    "id": "rxbKOpljOsaQ"
   },
   "source": [
    "### Step 3a: Creating the dictionary of the models\n",
    "- In the dictionary:\n",
    "    - the key is the acronym of the model\n",
    "    - the value is the model"
   ]
  },
  {
   "cell_type": "code",
   "execution_count": 40,
   "metadata": {
    "executionInfo": {
     "elapsed": 30743,
     "status": "ok",
     "timestamp": 1609346508550,
     "user": {
      "displayName": "Huang Yuxiao",
      "photoUrl": "",
      "userId": "05167076769245149404"
     },
     "user_tz": 300
    },
    "id": "JNIfCNuBOsaQ"
   },
   "outputs": [],
   "source": [
    "from sklearn.experimental import enable_hist_gradient_boosting\n",
    "from sklearn.ensemble import HistGradientBoostingClassifier\n",
    "\n",
    "models = {'hgbc': HistGradientBoostingClassifier(random_state=random_seed)}"
   ]
  },
  {
   "cell_type": "markdown",
   "metadata": {
    "id": "gz5y76gxOsaS"
   },
   "source": [
    "### Step 3b: Creating the dictionary of the sklearn pipelines\n",
    "In the dictionary:\n",
    "- the key is the acronym of the model\n",
    "- the value is the pipeline, which, for now, only includes the model"
   ]
  },
  {
   "cell_type": "code",
   "execution_count": 41,
   "metadata": {
    "executionInfo": {
     "elapsed": 30742,
     "status": "ok",
     "timestamp": 1609346508550,
     "user": {
      "displayName": "Huang Yuxiao",
      "photoUrl": "",
      "userId": "05167076769245149404"
     },
     "user_tz": 300
    },
    "id": "ZI2unwFFOsaS"
   },
   "outputs": [],
   "source": [
    "from sklearn.pipeline import Pipeline\n",
    "\n",
    "pipes = {}\n",
    "\n",
    "for acronym, model in models.items():\n",
    "    pipes[acronym] = Pipeline([('model', model)])"
   ]
  },
  {
   "cell_type": "markdown",
   "metadata": {
    "id": "6ZpRvCysOsaU"
   },
   "source": [
    "### Step 3c: Creating the dictionary of the parameter grids\n",
    "- In the dictionary:\n",
    "    - the key is the acronym of the model\n",
    "    - the value is the parameter grid of the model"
   ]
  },
  {
   "cell_type": "code",
   "execution_count": 42,
   "metadata": {
    "executionInfo": {
     "elapsed": 30742,
     "status": "ok",
     "timestamp": 1609346508551,
     "user": {
      "displayName": "Huang Yuxiao",
      "photoUrl": "",
      "userId": "05167076769245149404"
     },
     "user_tz": 300
    },
    "id": "wtur69dGOsaV"
   },
   "outputs": [],
   "source": [
    "param_grids = {}"
   ]
  },
  {
   "cell_type": "markdown",
   "metadata": {
    "id": "gcUA6hscOsaZ"
   },
   "source": [
    "#### The parameter grid for histogram-based gradient boosting\n",
    "The hyperparameters we want to fine-tune are:\n",
    "- learning_rate\n",
    "- min_samples_leaf\n",
    "\n",
    "See details of the meaning of the hyperparametes in [sklearn.ensemble.HistGradientBoostingClassifier](https://scikit-learn.org/stable/modules/generated/sklearn.ensemble.HistGradientBoostingClassifier.html)"
   ]
  },
  {
   "cell_type": "code",
   "execution_count": 43,
   "metadata": {
    "executionInfo": {
     "elapsed": 30930,
     "status": "ok",
     "timestamp": 1609346508740,
     "user": {
      "displayName": "Huang Yuxiao",
      "photoUrl": "",
      "userId": "05167076769245149404"
     },
     "user_tz": 300
    },
    "id": "3HMuP4QhOsaZ"
   },
   "outputs": [],
   "source": [
    "# The grids for learning_rate\n",
    "learning_rate_grids = [10 ** i for i in range(-3, 2)]\n",
    "\n",
    "# The grids for min_samples_leaf\n",
    "min_samples_leaf_grids = [1, 20, 100]\n",
    "\n",
    "# Update param_grids\n",
    "param_grids['hgbc'] = [{'model__learning_rate': learning_rate_grids,\n",
    "                        'model__min_samples_leaf': min_samples_leaf_grids}]"
   ]
  },
  {
   "cell_type": "markdown",
   "metadata": {
    "id": "YoYgPilmbT7Z"
   },
   "source": [
    "### Step 3d: Training, validation and test"
   ]
  },
  {
   "cell_type": "markdown",
   "metadata": {
    "id": "eOZigrfkkN-z"
   },
   "source": [
    "#### Training, validation and test without data augmentation"
   ]
  },
  {
   "cell_type": "code",
   "execution_count": 44,
   "metadata": {
    "colab": {
     "base_uri": "https://localhost:8080/",
     "height": 80
    },
    "executionInfo": {
     "elapsed": 35551,
     "status": "ok",
     "timestamp": 1609346513378,
     "user": {
      "displayName": "Huang Yuxiao",
      "photoUrl": "",
      "userId": "05167076769245149404"
     },
     "user_tz": 300
    },
    "id": "boBwYoX7uCLr",
    "outputId": "1ee42303-93da-450c-824d-88305cdbdcf0"
   },
   "outputs": [
    {
     "data": {
      "text/html": [
       "<div>\n",
       "<style scoped>\n",
       "    .dataframe tbody tr th:only-of-type {\n",
       "        vertical-align: middle;\n",
       "    }\n",
       "\n",
       "    .dataframe tbody tr th {\n",
       "        vertical-align: top;\n",
       "    }\n",
       "\n",
       "    .dataframe thead th {\n",
       "        text-align: right;\n",
       "    }\n",
       "</style>\n",
       "<table border=\"1\" class=\"dataframe\">\n",
       "  <thead>\n",
       "    <tr style=\"text-align: right;\">\n",
       "      <th></th>\n",
       "      <th>Precision</th>\n",
       "      <th>Recall</th>\n",
       "      <th>F1-score</th>\n",
       "      <th>Model</th>\n",
       "    </tr>\n",
       "  </thead>\n",
       "  <tbody>\n",
       "    <tr>\n",
       "      <th>0</th>\n",
       "      <td>[0.8672032193158954, 0.2608695652173913]</td>\n",
       "      <td>[0.8941908713692946, 0.21428571428571427]</td>\n",
       "      <td>[0.8804902962206332, 0.23529411764705882]</td>\n",
       "      <td>(HistGradientBoostingClassifier(l2_regularizat...</td>\n",
       "    </tr>\n",
       "  </tbody>\n",
       "</table>\n",
       "</div>"
      ],
      "text/plain": [
       "                                  Precision  ...                                              Model\n",
       "0  [0.8672032193158954, 0.2608695652173913]  ...  (HistGradientBoostingClassifier(l2_regularizat...\n",
       "\n",
       "[1 rows x 4 columns]"
      ]
     },
     "execution_count": 44,
     "metadata": {
      "tags": []
     },
     "output_type": "execute_result"
    }
   ],
   "source": [
    "# Get the:\n",
    "# feature matrix and target velctor in the combined training and validation data\n",
    "# target vector in the combined training and validation data\n",
    "# PredefinedSplit\n",
    "# See the implementation in pmlm_utilities.ipynb\n",
    "X_train_val, y_train_val, ps = get_train_val_ps(X_train, y_train, X_val, y_val)\n",
    "\n",
    "# Training, validation and test\n",
    "# See the implementation in pmlm_utilities.ipynb\n",
    "training_valation_test(X_train_val, y_train_val, X_test, y_test, ps, abspath_curr + 'result/cv_results/', 'baseline')"
   ]
  },
  {
   "cell_type": "markdown",
   "metadata": {
    "id": "GyvTBnj2bT7Z"
   },
   "source": [
    "#### Training, validation and test with respect to RandomOverSampler"
   ]
  },
  {
   "cell_type": "code",
   "execution_count": 45,
   "metadata": {
    "colab": {
     "base_uri": "https://localhost:8080/",
     "height": 80
    },
    "executionInfo": {
     "elapsed": 39839,
     "status": "ok",
     "timestamp": 1609346517683,
     "user": {
      "displayName": "Huang Yuxiao",
      "photoUrl": "",
      "userId": "05167076769245149404"
     },
     "user_tz": 300
    },
    "id": "lSqqBnkS_pyV",
    "outputId": "9c0658fc-46a7-40b0-bd72-9ee9b4d1b001"
   },
   "outputs": [
    {
     "data": {
      "text/html": [
       "<div>\n",
       "<style scoped>\n",
       "    .dataframe tbody tr th:only-of-type {\n",
       "        vertical-align: middle;\n",
       "    }\n",
       "\n",
       "    .dataframe tbody tr th {\n",
       "        vertical-align: top;\n",
       "    }\n",
       "\n",
       "    .dataframe thead th {\n",
       "        text-align: right;\n",
       "    }\n",
       "</style>\n",
       "<table border=\"1\" class=\"dataframe\">\n",
       "  <thead>\n",
       "    <tr style=\"text-align: right;\">\n",
       "      <th></th>\n",
       "      <th>Precision</th>\n",
       "      <th>Recall</th>\n",
       "      <th>F1-score</th>\n",
       "      <th>Model</th>\n",
       "    </tr>\n",
       "  </thead>\n",
       "  <tbody>\n",
       "    <tr>\n",
       "      <th>0</th>\n",
       "      <td>[0.8515901060070671, 0.0]</td>\n",
       "      <td>[1.0, 0.0]</td>\n",
       "      <td>[0.9198473282442748, 0.0]</td>\n",
       "      <td>(HistGradientBoostingClassifier(l2_regularizat...</td>\n",
       "    </tr>\n",
       "  </tbody>\n",
       "</table>\n",
       "</div>"
      ],
      "text/plain": [
       "                   Precision  ...                                              Model\n",
       "0  [0.8515901060070671, 0.0]  ...  (HistGradientBoostingClassifier(l2_regularizat...\n",
       "\n",
       "[1 rows x 4 columns]"
      ]
     },
     "execution_count": 45,
     "metadata": {
      "tags": []
     },
     "output_type": "execute_result"
    }
   ],
   "source": [
    "# Get the:\n",
    "# feature matrix and target velctor in the combined training and validation data\n",
    "# target vector in the combined training and validation data\n",
    "# PredefinedSplit\n",
    "# See the implementation in pmlm_utilities.ipynb\n",
    "X_train_val, y_train_val, ps = get_train_val_ps(X_ros_train, y_ros_train, X_val, y_val)\n",
    "\n",
    "# Training, validation and test\n",
    "# See the implementation in pmlm_utilities.ipynb\n",
    "training_valation_test(X_train_val, y_train_val, X_test, y_test, ps, abspath_curr + '/result/cv_results/', 'ros')"
   ]
  },
  {
   "cell_type": "markdown",
   "metadata": {
    "id": "bwNwvqdZbT7a"
   },
   "source": [
    "#### Training, validation and test with respect to SMOTE"
   ]
  },
  {
   "cell_type": "code",
   "execution_count": 46,
   "metadata": {
    "colab": {
     "base_uri": "https://localhost:8080/",
     "height": 80
    },
    "executionInfo": {
     "elapsed": 44030,
     "status": "ok",
     "timestamp": 1609346521891,
     "user": {
      "displayName": "Huang Yuxiao",
      "photoUrl": "",
      "userId": "05167076769245149404"
     },
     "user_tz": 300
    },
    "id": "FCn8GDEJbT7a",
    "outputId": "5ba9b6f4-bdbf-4bd7-b1e6-f66cc5ed2ab0"
   },
   "outputs": [
    {
     "data": {
      "text/html": [
       "<div>\n",
       "<style scoped>\n",
       "    .dataframe tbody tr th:only-of-type {\n",
       "        vertical-align: middle;\n",
       "    }\n",
       "\n",
       "    .dataframe tbody tr th {\n",
       "        vertical-align: top;\n",
       "    }\n",
       "\n",
       "    .dataframe thead th {\n",
       "        text-align: right;\n",
       "    }\n",
       "</style>\n",
       "<table border=\"1\" class=\"dataframe\">\n",
       "  <thead>\n",
       "    <tr style=\"text-align: right;\">\n",
       "      <th></th>\n",
       "      <th>Precision</th>\n",
       "      <th>Recall</th>\n",
       "      <th>F1-score</th>\n",
       "      <th>Model</th>\n",
       "    </tr>\n",
       "  </thead>\n",
       "  <tbody>\n",
       "    <tr>\n",
       "      <th>0</th>\n",
       "      <td>[0.8515901060070671, 0.0]</td>\n",
       "      <td>[1.0, 0.0]</td>\n",
       "      <td>[0.9198473282442748, 0.0]</td>\n",
       "      <td>(HistGradientBoostingClassifier(l2_regularizat...</td>\n",
       "    </tr>\n",
       "  </tbody>\n",
       "</table>\n",
       "</div>"
      ],
      "text/plain": [
       "                   Precision  ...                                              Model\n",
       "0  [0.8515901060070671, 0.0]  ...  (HistGradientBoostingClassifier(l2_regularizat...\n",
       "\n",
       "[1 rows x 4 columns]"
      ]
     },
     "execution_count": 46,
     "metadata": {
      "tags": []
     },
     "output_type": "execute_result"
    }
   ],
   "source": [
    "# Get the:\n",
    "# feature matrix and target velctor in the combined training and validation data\n",
    "# target vector in the combined training and validation data\n",
    "# PredefinedSplit\n",
    "# See the implementation in pmlm_utilities.ipynb\n",
    "X_train_val, y_train_val, ps = get_train_val_ps(X_smote_train, y_smote_train, X_val, y_val)\n",
    "\n",
    "# Training, validation and test\n",
    "# See the implementation in pmlm_utilities.ipynb\n",
    "training_valation_test(X_train_val, y_train_val, X_test, y_test, ps, abspath_curr + '/result/cv_results/', 'smote')"
   ]
  },
  {
   "cell_type": "markdown",
   "metadata": {
    "id": "nsrwMgLqbT7b"
   },
   "source": [
    "#### Training, validation and test with respect to GANs"
   ]
  },
  {
   "cell_type": "code",
   "execution_count": 47,
   "metadata": {
    "colab": {
     "base_uri": "https://localhost:8080/",
     "height": 80
    },
    "executionInfo": {
     "elapsed": 48643,
     "status": "ok",
     "timestamp": 1609346526520,
     "user": {
      "displayName": "Huang Yuxiao",
      "photoUrl": "",
      "userId": "05167076769245149404"
     },
     "user_tz": 300
    },
    "id": "wLPLiTpq7sCn",
    "outputId": "8e5bb9a7-194d-4378-ff7c-552b945dbeea",
    "scrolled": true
   },
   "outputs": [
    {
     "data": {
      "text/html": [
       "<div>\n",
       "<style scoped>\n",
       "    .dataframe tbody tr th:only-of-type {\n",
       "        vertical-align: middle;\n",
       "    }\n",
       "\n",
       "    .dataframe tbody tr th {\n",
       "        vertical-align: top;\n",
       "    }\n",
       "\n",
       "    .dataframe thead th {\n",
       "        text-align: right;\n",
       "    }\n",
       "</style>\n",
       "<table border=\"1\" class=\"dataframe\">\n",
       "  <thead>\n",
       "    <tr style=\"text-align: right;\">\n",
       "      <th></th>\n",
       "      <th>Precision</th>\n",
       "      <th>Recall</th>\n",
       "      <th>F1-score</th>\n",
       "      <th>Model</th>\n",
       "    </tr>\n",
       "  </thead>\n",
       "  <tbody>\n",
       "    <tr>\n",
       "      <th>0</th>\n",
       "      <td>[0.8739837398373984, 0.2972972972972973]</td>\n",
       "      <td>[0.8921161825726142, 0.2619047619047619]</td>\n",
       "      <td>[0.8829568788501028, 0.27848101265822783]</td>\n",
       "      <td>(HistGradientBoostingClassifier(l2_regularizat...</td>\n",
       "    </tr>\n",
       "  </tbody>\n",
       "</table>\n",
       "</div>"
      ],
      "text/plain": [
       "                                  Precision  ...                                              Model\n",
       "0  [0.8739837398373984, 0.2972972972972973]  ...  (HistGradientBoostingClassifier(l2_regularizat...\n",
       "\n",
       "[1 rows x 4 columns]"
      ]
     },
     "execution_count": 47,
     "metadata": {
      "tags": []
     },
     "output_type": "execute_result"
    }
   ],
   "source": [
    "# Get the:\n",
    "# feature matrix and target velctor in the combined training and validation data\n",
    "# target vector in the combined training and validation data\n",
    "# PredefinedSplit\n",
    "# See the implementation in pmlm_utilities.ipynb\n",
    "X_train_val, y_train_val, ps = get_train_val_ps(X_gan_train, y_gan_train, X_val, y_val)\n",
    "\n",
    "# Training, validation and test\n",
    "# See the implementation in pmlm_utilities.ipynb\n",
    "training_valation_test(X_train_val, y_train_val, X_test, y_test, ps, abspath_curr + '/result/cv_results/', 'gan')"
   ]
  },
  {
   "cell_type": "markdown",
   "metadata": {
    "id": "Gb-f7eAP3OT9"
   },
   "source": [
    "## Step 4: Interpreting the results using visualization"
   ]
  },
  {
   "cell_type": "markdown",
   "metadata": {
    "id": "0dijfWHj3FWa"
   },
   "source": [
    "### Step 4a: Creating the directory of the figures"
   ]
  },
  {
   "cell_type": "code",
   "execution_count": 48,
   "metadata": {
    "executionInfo": {
     "elapsed": 48642,
     "status": "ok",
     "timestamp": 1609346526521,
     "user": {
      "displayName": "Huang Yuxiao",
      "photoUrl": "",
      "userId": "05167076769245149404"
     },
     "user_tz": 300
    },
    "id": "m2ywUgwl1Wvs"
   },
   "outputs": [],
   "source": [
    "import os\n",
    "\n",
    "# Make directory\n",
    "directory = os.path.dirname(abspath_curr + 'result/figure/')\n",
    "if not os.path.exists(directory):\n",
    "    os.makedirs(directory)"
   ]
  },
  {
   "cell_type": "markdown",
   "metadata": {
    "id": "CDH6VVwBE5Ce"
   },
   "source": [
    "### Step 4b: Visualization without data augmentation"
   ]
  },
  {
   "cell_type": "markdown",
   "metadata": {
    "id": "BiSa9Wv5q225"
   },
   "source": [
    "#### Plot the scatter plot"
   ]
  },
  {
   "cell_type": "code",
   "execution_count": 49,
   "metadata": {
    "colab": {
     "base_uri": "https://localhost:8080/",
     "height": 420
    },
    "executionInfo": {
     "elapsed": 55812,
     "status": "ok",
     "timestamp": 1609346533708,
     "user": {
      "displayName": "Huang Yuxiao",
      "photoUrl": "",
      "userId": "05167076769245149404"
     },
     "user_tz": 300
    },
    "id": "3gYUiYEAUeLw",
    "outputId": "ec140d66-fe0d-4f5c-a3c8-42fcf595beca"
   },
   "outputs": [
    {
     "data": {
      "image/png": "[encoded data removed]",
      "text/plain": [
       "<Figure size 576x432 with 1 Axes>"
      ]
     },
     "metadata": {
      "needs_background": "light",
      "tags": []
     },
     "output_type": "display_data"
    }
   ],
   "source": [
    "# Plot the scatter plot using TSNE\n",
    "# See the implementation in pmlm_utilities.ipynb\n",
    "plot_scatter_tsne(X_train,\n",
    "                  y_train, \n",
    "                  [0, 1],\n",
    "                  ['Not Used', 'Used'],\n",
    "                  ['blue', 'green'],\n",
    "                  ['o', '^'],\n",
    "                  'bottom-left',\n",
    "                  abspath_curr + 'result/figure/',\n",
    "                  'scatter_plot_baseline.pdf',\n",
    "                  random_seed)"
   ]
  },
  {
   "cell_type": "markdown",
   "metadata": {
    "id": "hiKLqMHaUeLx"
   },
   "source": [
    "### Step 4c: Visualization with respect to RO"
   ]
  },
  {
   "cell_type": "markdown",
   "metadata": {
    "id": "xUxCeAeaq228"
   },
   "source": [
    "#### Separate the duplicated class from the original class"
   ]
  },
  {
   "cell_type": "code",
   "execution_count": 50,
   "metadata": {
    "executionInfo": {
     "elapsed": 60315,
     "status": "ok",
     "timestamp": 1609346538212,
     "user": {
      "displayName": "Huang Yuxiao",
      "photoUrl": "",
      "userId": "05167076769245149404"
     },
     "user_tz": 300
    },
    "id": "CzhVkj0Bz5Nq"
   },
   "outputs": [],
   "source": [
    "# See the implementation in pmlm_utilities.ipynb\n",
    "y_ros_dup_ori_train = separate_duplicate_original(X_ros_train, y_ros_train, 1)"
   ]
  },
  {
   "cell_type": "markdown",
   "metadata": {
    "id": "Ewf8UCykUeLy"
   },
   "source": [
    "#### Plot the scatter plot"
   ]
  },
  {
   "cell_type": "code",
   "execution_count": 51,
   "metadata": {
    "colab": {
     "base_uri": "https://localhost:8080/",
     "height": 420
    },
    "executionInfo": {
     "elapsed": 72355,
     "status": "ok",
     "timestamp": 1609346550268,
     "user": {
      "displayName": "Huang Yuxiao",
      "photoUrl": "",
      "userId": "05167076769245149404"
     },
     "user_tz": 300
    },
    "id": "iLWujzS6q225",
    "outputId": "01a1346a-660c-47e2-a3a4-d97bc9001ea7"
   },
   "outputs": [
    {
     "data": {
      "image/png": "[encoded data removed]",
      "text/plain": [
       "<Figure size 576x432 with 1 Axes>"
      ]
     },
     "metadata": {
      "needs_background": "light",
      "tags": []
     },
     "output_type": "display_data"
    }
   ],
   "source": [
    "# Plot the scatter plot using TSNE\n",
    "# See the implementation in pmlm_utilities.ipynb\n",
    "plot_scatter_tsne(X_ros_train,\n",
    "                  y_ros_dup_ori_train, \n",
    "                  [0, 1, 2],\n",
    "                  ['Not Used', 'Used', 'Gen Used'],\n",
    "                  ['blue', 'green', 'red'],\n",
    "                  ['o', '^', 's'],\n",
    "                  'bottom-right',\n",
    "                  abspath_curr + 'result/figure/',\n",
    "                  'scatter_plot_ros.pdf',\n",
    "                  random_seed)"
   ]
  },
  {
   "cell_type": "markdown",
   "metadata": {
    "id": "1NVBcvdVUeL0"
   },
   "source": [
    "### Step 4d: Visualization with respect to SMOTE"
   ]
  },
  {
   "cell_type": "markdown",
   "metadata": {
    "id": "HIxckPhvz5Nu"
   },
   "source": [
    "#### Separate the generated class from the original class"
   ]
  },
  {
   "cell_type": "code",
   "execution_count": 52,
   "metadata": {
    "executionInfo": {
     "elapsed": 77732,
     "status": "ok",
     "timestamp": 1609346555646,
     "user": {
      "displayName": "Huang Yuxiao",
      "photoUrl": "",
      "userId": "05167076769245149404"
     },
     "user_tz": 300
    },
    "id": "3Yz_RR09z5Nv"
   },
   "outputs": [],
   "source": [
    "# See the implementation in pmlm_utilities.ipynb\n",
    "y_smote_gen_ori_train = separate_generate_original(X_smote_train, y_smote_train, X_train, y_train, 1)"
   ]
  },
  {
   "cell_type": "markdown",
   "metadata": {
    "id": "MP3INDC5z5Nw"
   },
   "source": [
    "#### Plot the scatter plot"
   ]
  },
  {
   "cell_type": "code",
   "execution_count": 53,
   "metadata": {
    "colab": {
     "base_uri": "https://localhost:8080/",
     "height": 420
    },
    "executionInfo": {
     "elapsed": 89338,
     "status": "ok",
     "timestamp": 1609346567269,
     "user": {
      "displayName": "Huang Yuxiao",
      "photoUrl": "",
      "userId": "05167076769245149404"
     },
     "user_tz": 300
    },
    "id": "9AeQMZp6q228",
    "outputId": "2a61196e-a18d-41a8-ff54-50a636541227",
    "scrolled": true
   },
   "outputs": [
    {
     "data": {
      "image/png": "[encoded data removed]",
      "text/plain": [
       "<Figure size 576x432 with 1 Axes>"
      ]
     },
     "metadata": {
      "needs_background": "light",
      "tags": []
     },
     "output_type": "display_data"
    }
   ],
   "source": [
    "# Plot the scatter plot using TSNE\n",
    "# See the implementation in pmlm_utilities.ipynb\n",
    "plot_scatter_tsne(X_smote_train,\n",
    "                  y_smote_gen_ori_train, \n",
    "                  [0, 1, 2],\n",
    "                  ['Not Used', 'Used', 'Gen Used'],\n",
    "                  ['blue', 'green', 'red'],\n",
    "                  ['o', '^', 's'],\n",
    "                  'bottom-right',\n",
    "                  abspath_curr + 'result/figure/',\n",
    "                  'scatter_plot_smote.pdf',\n",
    "                  random_seed)"
   ]
  },
  {
   "cell_type": "markdown",
   "metadata": {
    "id": "TssMR5GdUeL4"
   },
   "source": [
    "### Step 4e: Visualization with respect to GANs"
   ]
  },
  {
   "cell_type": "markdown",
   "metadata": {
    "id": "VCq0bTA2UeL4"
   },
   "source": [
    "#### Separate the generated class from the original class"
   ]
  },
  {
   "cell_type": "code",
   "execution_count": 54,
   "metadata": {
    "executionInfo": {
     "elapsed": 94647,
     "status": "ok",
     "timestamp": 1609346572579,
     "user": {
      "displayName": "Huang Yuxiao",
      "photoUrl": "",
      "userId": "05167076769245149404"
     },
     "user_tz": 300
    },
    "id": "VHYb04A1UeL4"
   },
   "outputs": [],
   "source": [
    "# See the implementation in pmlm_utilities.ipynb\n",
    "y_gan_gen_ori_train = separate_generate_original(X_gan_train, y_gan_train, X_train, y_train, 1)"
   ]
  },
  {
   "cell_type": "markdown",
   "metadata": {
    "id": "SgTfRCAnUeL5"
   },
   "source": [
    "#### Plot the scatter plot"
   ]
  },
  {
   "cell_type": "code",
   "execution_count": 55,
   "metadata": {
    "colab": {
     "base_uri": "https://localhost:8080/",
     "height": 420
    },
    "executionInfo": {
     "elapsed": 105575,
     "status": "ok",
     "timestamp": 1609346583523,
     "user": {
      "displayName": "Huang Yuxiao",
      "photoUrl": "",
      "userId": "05167076769245149404"
     },
     "user_tz": 300
    },
    "id": "JFDFnp82UeL5",
    "outputId": "afcaf7ef-546b-4cf3-a0e5-434d318b0ac5",
    "scrolled": true
   },
   "outputs": [
    {
     "data": {
      "image/png": "[encoded data removed]",
      "text/plain": [
       "<Figure size 576x432 with 1 Axes>"
      ]
     },
     "metadata": {
      "needs_background": "light",
      "tags": []
     },
     "output_type": "display_data"
    }
   ],
   "source": [
    "# Plot the scatter plot using TSNE\n",
    "# See the implementation in pmlm_utilities.ipynb\n",
    "plot_scatter_tsne(X_gan_train,\n",
    "                  y_gan_gen_ori_train, \n",
    "                  [0, 1, 2],\n",
    "                  ['Not Used', 'Used', 'Gen Used'],\n",
    "                  ['blue', 'green', 'red'],\n",
    "                  ['o', '^', 's'],\n",
    "                  'bottom-right',\n",
    "                  abspath_curr + 'result/figure/',\n",
    "                  'scatter_plot_gan.pdf',\n",
    "                  random_seed)"
   ]
  },
  {
   "cell_type": "markdown",
   "metadata": {
    "id": "KeR3L0fsmq1G"
   },
   "source": [
    "# Reference\n",
    "- The code for data preprocessing, training / validating/ testing classifiers, and interpreting the results are from the code examples developed in the following course of [Yuxiao Huang](https://sites.google.com/view/yuxiaohuang/home?authuser=0) at George Washington University:\n",
    "    - [Popular Machine Learning Methods: Idea, Math and Practice](https://github.com/yuxiaohuang/teaching/tree/master/gwu/machine_learning_I)\n",
    "- The code for building, compiling and training GANs were largely inspired by the following work:\n",
    "    - Géron, A., 2019. *Hands-On Machine Learning with Scikit-Learn, Keras, and TensorFlow: Concepts, Tools, and Techniques to Build Intelligent Systems*. O'Reilly Media."
   ]
  }
 ],
 "metadata": {
  "colab": {
   "collapsed_sections": [],
   "name": "pipeline.ipynb",
   "provenance": []
  },
  "kernelspec": {
   "display_name": "Python 3",
   "language": "python",
   "name": "python3"
  },
  "language_info": {
   "codemirror_mode": {
    "name": "ipython",
    "version": 3
   },
   "file_extension": ".py",
   "mimetype": "text/x-python",
   "name": "python",
   "nbconvert_exporter": "python",
   "pygments_lexer": "ipython3",
   "version": "3.7.6"
  },
  "toc": {
   "base_numbering": 1,
   "nav_menu": {},
   "number_sections": true,
   "sideBar": true,
   "skip_h1_title": false,
   "title_cell": "Table of Contents",
   "title_sidebar": "Contents",
   "toc_cell": true,
   "toc_position": {},
   "toc_section_display": true,
   "toc_window_display": false
  }
 },
 "nbformat": 4,
 "nbformat_minor": 1
}
